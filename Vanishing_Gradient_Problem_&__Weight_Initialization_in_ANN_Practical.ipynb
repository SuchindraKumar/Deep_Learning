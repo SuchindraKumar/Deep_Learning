{
  "nbformat": 4,
  "nbformat_minor": 0,
  "metadata": {
    "colab": {
      "provenance": [],
      "gpuType": "T4"
    },
    "kernelspec": {
      "name": "python3",
      "display_name": "Python 3"
    },
    "language_info": {
      "name": "python"
    },
    "accelerator": "GPU"
  },
  "cells": [
    {
      "cell_type": "code",
      "execution_count": 1,
      "metadata": {
        "id": "6LBsKSKxN3XF"
      },
      "outputs": [],
      "source": [
        "import tensorflow as tf\n",
        "import keras\n",
        "from keras.layers import Dense\n",
        "from keras.models import Sequential\n",
        "import matplotlib.pyplot as plt\n",
        "import numpy as np\n",
        "from sklearn.datasets import make_moons\n",
        "from sklearn.model_selection import train_test_split"
      ]
    },
    {
      "cell_type": "code",
      "source": [
        "X,y = make_moons(n_samples=250, noise = 0.05, random_state=42)"
      ],
      "metadata": {
        "id": "JeIKjuKQaS2g"
      },
      "execution_count": 2,
      "outputs": []
    },
    {
      "cell_type": "code",
      "source": [
        "X.shape"
      ],
      "metadata": {
        "colab": {
          "base_uri": "https://localhost:8080/"
        },
        "id": "_8dI1miAbGqr",
        "outputId": "001595e2-6b76-4db7-c6c5-d7cfc10196fb"
      },
      "execution_count": 3,
      "outputs": [
        {
          "output_type": "execute_result",
          "data": {
            "text/plain": [
              "(250, 2)"
            ]
          },
          "metadata": {},
          "execution_count": 3
        }
      ]
    },
    {
      "cell_type": "code",
      "source": [
        "X"
      ],
      "metadata": {
        "colab": {
          "base_uri": "https://localhost:8080/"
        },
        "id": "53GIwtX6bIyv",
        "outputId": "c3abfd4b-bc66-4e13-e792-35343748aa5f"
      },
      "execution_count": 4,
      "outputs": [
        {
          "output_type": "execute_result",
          "data": {
            "text/plain": [
              "array([[ 8.41540974e-02,  1.13341197e-01],\n",
              "       [ 1.05091536e+00,  1.54710235e-01],\n",
              "       [-7.16555269e-01,  6.75607887e-01],\n",
              "       [ 6.09316755e-02,  9.26542340e-01],\n",
              "       [-1.00552480e+00,  3.36425155e-01],\n",
              "       [ 7.63045744e-01, -4.82519400e-01],\n",
              "       [ 1.30067681e+00, -4.60456076e-01],\n",
              "       [ 8.93997023e-01, -5.39443631e-01],\n",
              "       [ 1.01492378e+00,  2.49633435e-01],\n",
              "       [-8.88621081e-01,  5.38566586e-01],\n",
              "       [ 1.36613788e+00, -3.56819676e-01],\n",
              "       [ 1.69872955e+00, -2.50238607e-01],\n",
              "       [ 1.93909982e+00,  7.98335031e-02],\n",
              "       [ 1.98164910e+00,  2.73166182e-01],\n",
              "       [-1.92842298e-01,  9.90722796e-01],\n",
              "       [ 1.87318667e+00, -1.28604429e-01],\n",
              "       [ 1.12842503e+00, -4.29068613e-01],\n",
              "       [ 9.60365014e-01,  5.24004362e-01],\n",
              "       [ 6.83418960e-01, -4.32057757e-01],\n",
              "       [ 8.36557987e-01,  5.74232279e-01],\n",
              "       [ 2.04424212e+00,  4.47864563e-01],\n",
              "       [ 7.89541222e-01,  4.20628768e-01],\n",
              "       [-8.99855447e-01,  3.09253977e-01],\n",
              "       [-1.70083737e-01,  1.01364818e+00],\n",
              "       [ 8.64100790e-01, -4.62976070e-01],\n",
              "       [ 4.16929826e-01,  9.18202726e-01],\n",
              "       [ 2.06768552e-01,  9.66869965e-01],\n",
              "       [ 9.98383587e-01,  1.53441053e-01],\n",
              "       [ 7.41612725e-01,  6.91498410e-01],\n",
              "       [-1.00574217e+00,  7.74054546e-02],\n",
              "       [ 1.31683658e+00, -4.78428187e-01],\n",
              "       [ 5.54481432e-01,  7.28612668e-01],\n",
              "       [ 1.35858678e-01,  8.88735937e-02],\n",
              "       [ 1.75654841e+00, -2.42976963e-01],\n",
              "       [ 7.40743386e-01,  5.54338955e-01],\n",
              "       [-9.97524363e-01,  2.64286007e-01],\n",
              "       [ 9.20293241e-01,  5.29340369e-01],\n",
              "       [ 1.19270090e+00, -5.58707061e-01],\n",
              "       [ 8.56420100e-01, -5.56110065e-01],\n",
              "       [ 2.89464236e-01, -2.34008340e-01],\n",
              "       [-9.96733805e-01,  1.17069019e-01],\n",
              "       [-7.55340560e-01,  6.30902041e-01],\n",
              "       [-8.24480429e-01,  3.60565618e-01],\n",
              "       [ 9.03680204e-01, -5.21468166e-01],\n",
              "       [ 1.75437757e+00, -1.02159856e-01],\n",
              "       [ 8.19380922e-01,  4.15657148e-01],\n",
              "       [ 1.11163727e-01,  3.15453600e-02],\n",
              "       [-1.78801952e-01,  1.01024975e+00],\n",
              "       [ 6.33124657e-01, -4.15851002e-01],\n",
              "       [ 6.54456705e-01,  7.83801620e-01],\n",
              "       [ 1.03252524e-02,  2.99269369e-01],\n",
              "       [ 1.90041253e+00, -9.29652950e-02],\n",
              "       [ 1.92478212e+00,  1.95990042e-01],\n",
              "       [-9.98773046e-01,  8.66633440e-02],\n",
              "       [ 2.01607705e-02,  2.32763980e-01],\n",
              "       [-1.06941992e-01,  1.03645475e+00],\n",
              "       [ 1.67299917e+00, -2.35023613e-01],\n",
              "       [ 2.71539502e-01, -5.81445137e-02],\n",
              "       [ 4.97623260e-01, -2.90178812e-01],\n",
              "       [ 1.81516796e+00,  2.61465591e-02],\n",
              "       [ 1.90198850e+00,  6.48805981e-02],\n",
              "       [ 3.27847838e-01, -1.77111950e-01],\n",
              "       [-1.00837743e+00,  7.17300661e-02],\n",
              "       [-5.49966384e-01,  8.55604463e-01],\n",
              "       [ 9.06805597e-05,  5.37796764e-01],\n",
              "       [ 6.11375169e-01, -3.53652874e-01],\n",
              "       [ 2.02325774e+00,  4.06240765e-01],\n",
              "       [-8.70031210e-01,  3.97519601e-01],\n",
              "       [ 6.66505683e-01, -3.38205158e-01],\n",
              "       [ 1.94000221e+00,  1.15502286e-01],\n",
              "       [-2.52781645e-01,  1.01822885e+00],\n",
              "       [ 3.54686494e-01, -1.88981657e-01],\n",
              "       [-1.00756489e+00,  1.82643859e-01],\n",
              "       [-3.50689868e-01,  8.82880254e-01],\n",
              "       [ 1.95965424e+00,  1.79135608e-01],\n",
              "       [-4.23791395e-01,  8.09785398e-01],\n",
              "       [ 8.19759719e-01,  6.21324827e-01],\n",
              "       [-6.15906179e-02,  4.33434719e-01],\n",
              "       [-3.19944988e-01,  9.06668534e-01],\n",
              "       [-5.44796440e-01,  8.11568854e-01],\n",
              "       [ 9.87483245e-01,  1.01044592e-01],\n",
              "       [ 1.53964975e-01,  1.01319832e+00],\n",
              "       [ 1.05858256e+00, -5.93402519e-01],\n",
              "       [ 1.97834556e+00,  8.60038698e-02],\n",
              "       [ 5.64102869e-01, -4.36058965e-01],\n",
              "       [-2.37493320e-02,  1.00856184e+00],\n",
              "       [-5.35625551e-03,  1.47203879e-01],\n",
              "       [-9.42781423e-01,  4.28932329e-02],\n",
              "       [ 1.58076309e+00, -3.57876102e-01],\n",
              "       [ 1.48729531e-01,  1.12406541e-01],\n",
              "       [ 6.29856834e-01,  6.64970026e-01],\n",
              "       [ 9.73741351e-01,  2.93136861e-01],\n",
              "       [ 6.21931794e-01,  8.76251701e-01],\n",
              "       [ 7.16095126e-01,  6.50658455e-01],\n",
              "       [ 4.95397335e-01,  8.34109782e-01],\n",
              "       [ 1.63507414e+00, -1.93640898e-01],\n",
              "       [ 9.39327586e-01,  5.49193155e-01],\n",
              "       [-7.02603152e-01,  7.11243303e-01],\n",
              "       [ 1.57895616e+00, -2.46854147e-01],\n",
              "       [-8.60243926e-01,  4.82453441e-01],\n",
              "       [ 1.96013416e-01,  9.65367181e-01],\n",
              "       [-6.88978962e-01,  6.82259107e-01],\n",
              "       [ 8.63270212e-02,  8.25279133e-02],\n",
              "       [ 1.30867374e+00, -4.12829733e-01],\n",
              "       [-2.80980058e-01,  8.90032626e-01],\n",
              "       [ 3.90315962e-01,  8.44195161e-01],\n",
              "       [-1.01238380e+00,  3.16694022e-01],\n",
              "       [ 1.88767659e-01, -2.25730970e-01],\n",
              "       [-4.23065928e-01,  8.44359095e-01],\n",
              "       [ 2.30863628e-01, -5.38191260e-03],\n",
              "       [ 8.23153642e-01,  6.38907309e-01],\n",
              "       [ 2.02153850e+00,  3.55368581e-01],\n",
              "       [ 4.22720017e-01, -4.05969894e-01],\n",
              "       [ 1.94612164e+00,  3.46309741e-01],\n",
              "       [-8.23563555e-02,  2.57773171e-01],\n",
              "       [ 9.05162639e-01,  2.99546663e-02],\n",
              "       [ 9.90312968e-01,  6.49079351e-02],\n",
              "       [-3.94545588e-01,  9.39513323e-01],\n",
              "       [ 3.70761979e-01,  8.91148754e-01],\n",
              "       [-8.65625258e-01,  6.47559713e-01],\n",
              "       [ 1.96289637e-02,  4.59825674e-01],\n",
              "       [ 1.50193647e-01, -1.03619463e-01],\n",
              "       [ 1.95031761e+00,  4.50109109e-01],\n",
              "       [-7.11828602e-01,  8.38215329e-01],\n",
              "       [-5.88138020e-01,  7.91217871e-01],\n",
              "       [ 6.34356363e-01, -4.92699529e-01],\n",
              "       [ 1.17655385e+00, -4.82003919e-01],\n",
              "       [-8.23041847e-01,  5.32075432e-01],\n",
              "       [ 5.36377240e-01,  8.24758720e-01],\n",
              "       [ 1.91932769e-02,  1.03212374e+00],\n",
              "       [ 4.47136711e-01, -2.98474265e-01],\n",
              "       [ 6.61329477e-04,  1.62173993e-01],\n",
              "       [ 1.03139656e+00,  2.52724712e-01],\n",
              "       [ 2.00901794e+00,  3.72972507e-01],\n",
              "       [ 1.34371500e+00, -4.95306035e-01],\n",
              "       [ 8.32692245e-01,  6.13191507e-01],\n",
              "       [ 2.40499915e-01, -1.83473915e-01],\n",
              "       [ 1.01199217e+00,  1.96744802e-01],\n",
              "       [-9.82739628e-01,  6.03130719e-02],\n",
              "       [ 7.68774066e-01,  7.54845484e-01],\n",
              "       [ 8.14262083e-02,  1.04801875e-01],\n",
              "       [ 7.36970991e-01, -5.06578512e-01],\n",
              "       [ 1.13245960e-02,  1.29749761e-01],\n",
              "       [ 1.66586647e-02,  9.87104892e-01],\n",
              "       [-1.41985580e-01,  2.35934315e-01],\n",
              "       [-2.30085262e-02,  4.68708154e-01],\n",
              "       [ 1.80680888e+00,  7.66701743e-02],\n",
              "       [ 1.51023383e+00, -4.17300059e-01],\n",
              "       [-1.43817366e-01,  1.00579053e+00],\n",
              "       [ 1.13801188e+00, -4.51854564e-01],\n",
              "       [-4.79456251e-02,  1.01073406e+00],\n",
              "       [ 4.81561777e-01,  1.00042718e+00],\n",
              "       [ 4.83595738e-01, -3.71334091e-01],\n",
              "       [ 4.27502468e-01,  9.46709431e-01],\n",
              "       [-1.01284116e+00,  5.20731788e-02],\n",
              "       [ 3.36537239e-01, -1.39992367e-01],\n",
              "       [ 8.25238299e-01,  6.21276364e-01],\n",
              "       [ 1.59430507e+00, -2.91458161e-01],\n",
              "       [ 8.22673634e-01, -4.34573563e-01],\n",
              "       [-4.44217241e-01,  8.17780564e-01],\n",
              "       [ 5.74547421e-01,  7.31845529e-01],\n",
              "       [ 1.64606277e+00, -4.03736997e-01],\n",
              "       [ 4.51539239e-01,  8.88005222e-01],\n",
              "       [-6.96781502e-01,  6.43360506e-01],\n",
              "       [ 1.12578888e+00, -5.08878851e-01],\n",
              "       [ 4.11282995e-01, -2.90022518e-01],\n",
              "       [ 3.94713405e-01,  9.11565376e-01],\n",
              "       [ 1.00491510e-01,  6.69636771e-02],\n",
              "       [ 8.61868415e-01, -4.95825373e-01],\n",
              "       [ 1.08125924e+00,  1.95014954e-01],\n",
              "       [-8.47058335e-01,  4.48639639e-01],\n",
              "       [ 2.07315004e-01,  9.33182299e-01],\n",
              "       [-1.07918504e-02,  2.85020993e-01],\n",
              "       [ 1.94685691e+00, -3.88250939e-02],\n",
              "       [ 1.09012513e+00, -4.86385061e-01],\n",
              "       [ 1.91757921e+00,  8.42727807e-02],\n",
              "       [ 3.63422548e-01,  9.49699645e-01],\n",
              "       [ 4.67168160e-01, -3.59780609e-01],\n",
              "       [-3.51357680e-01,  9.10428529e-01],\n",
              "       [ 6.71383431e-01,  7.19532528e-01],\n",
              "       [ 1.48658799e+00, -3.53806780e-01],\n",
              "       [ 9.25826602e-01,  9.34651868e-02],\n",
              "       [ 6.20327446e-01, -4.43396303e-01],\n",
              "       [-9.24756059e-01,  2.82753449e-01],\n",
              "       [-7.48410140e-01,  7.52348059e-01],\n",
              "       [-5.24784978e-01,  7.56237025e-01],\n",
              "       [ 1.85793068e+00, -1.77488836e-01],\n",
              "       [ 1.99043825e+00, -3.84966266e-02],\n",
              "       [-6.11864010e-01,  8.57363102e-01],\n",
              "       [ 1.05350164e+00,  3.00605340e-01],\n",
              "       [ 8.70095557e-01,  2.66644712e-01],\n",
              "       [ 8.72329779e-02,  1.03910029e+00],\n",
              "       [ 1.65081111e+00, -3.40657824e-01],\n",
              "       [ 3.63605836e-02,  3.38859653e-01],\n",
              "       [ 8.98360843e-01,  3.03611471e-01],\n",
              "       [ 5.32578420e-01, -3.54511798e-01],\n",
              "       [-1.60894304e-01,  9.64351737e-01],\n",
              "       [ 1.77033059e+00, -1.28793935e-01],\n",
              "       [-6.14242259e-02,  4.04786927e-01],\n",
              "       [ 1.39596937e+00, -3.83944461e-01],\n",
              "       [ 1.91838913e+00, -3.73585050e-03],\n",
              "       [ 6.70163023e-02,  1.01297684e+00],\n",
              "       [ 1.90624888e-01,  9.86455339e-01],\n",
              "       [-8.70460181e-01,  4.18048901e-01],\n",
              "       [ 3.43459618e-01,  8.69895649e-01],\n",
              "       [ 1.93067862e+00,  1.42407452e-01],\n",
              "       [ 7.76412421e-01, -3.47049763e-01],\n",
              "       [ 1.53862659e+00, -4.12402904e-01],\n",
              "       [ 1.17014308e+00, -5.28937231e-01],\n",
              "       [ 1.98645256e+00,  4.32043556e-01],\n",
              "       [ 1.50787776e+00, -3.42156486e-01],\n",
              "       [ 1.79295620e+00, -1.58598687e-01],\n",
              "       [ 5.93010896e-01, -4.07264923e-01],\n",
              "       [ 1.30133494e-01,  1.01973391e+00],\n",
              "       [ 3.85447617e-01,  9.69650467e-01],\n",
              "       [-6.34227601e-01,  8.13711246e-01],\n",
              "       [ 8.94441988e-01,  4.42739571e-01],\n",
              "       [ 1.12636377e-01,  1.02239287e+00],\n",
              "       [ 1.47982048e+00, -3.77712802e-01],\n",
              "       [ 4.56676861e-01, -2.94934321e-01],\n",
              "       [ 1.99682455e+00,  3.63866999e-01],\n",
              "       [ 8.83682414e-01, -4.24459839e-01],\n",
              "       [ 1.00812283e+00, -4.45022320e-01],\n",
              "       [ 3.94722661e-02,  2.81852028e-01],\n",
              "       [ 4.77423984e-01,  8.77652359e-01],\n",
              "       [ 3.71769184e-01, -2.68835969e-01],\n",
              "       [ 1.89365819e+00,  1.78324996e-01],\n",
              "       [ 9.99041868e-01,  7.80524751e-02],\n",
              "       [ 2.74631578e-01,  1.04722866e+00],\n",
              "       [ 2.27740448e-01, -3.52295626e-02],\n",
              "       [-9.59341307e-03,  3.52395343e-01],\n",
              "       [ 2.06636314e-01, -2.00588291e-02],\n",
              "       [-8.82085737e-01,  5.20322240e-01],\n",
              "       [-9.18268409e-01,  6.25667483e-01],\n",
              "       [-8.66670027e-01,  1.54616615e-01],\n",
              "       [-4.33154940e-01,  8.15140294e-01],\n",
              "       [ 1.24230304e+00, -4.47929912e-01],\n",
              "       [-2.32841195e-01,  1.05410512e+00],\n",
              "       [ 1.66784697e+00, -1.96635930e-01],\n",
              "       [ 1.49140344e+00, -3.68984892e-01],\n",
              "       [-1.08108588e+00,  4.56799604e-02],\n",
              "       [ 2.03809595e+00,  5.10632788e-01],\n",
              "       [ 9.17739068e-01,  4.38476262e-01],\n",
              "       [ 9.81556463e-01, -4.89448565e-01],\n",
              "       [-2.56180461e-01,  1.03920861e+00],\n",
              "       [-9.29175484e-01,  4.15624689e-01],\n",
              "       [ 9.58694103e-01,  3.27840843e-01],\n",
              "       [-7.50714139e-01,  6.69824996e-01],\n",
              "       [ 8.25589778e-01, -5.47465517e-01],\n",
              "       [-7.78786036e-01,  4.94444046e-01]])"
            ]
          },
          "metadata": {},
          "execution_count": 4
        }
      ]
    },
    {
      "cell_type": "code",
      "source": [
        "y.shape"
      ],
      "metadata": {
        "colab": {
          "base_uri": "https://localhost:8080/"
        },
        "id": "O_92A22_bLIa",
        "outputId": "5e52a704-bbc5-4ea0-9831-6e9ee46dc067"
      },
      "execution_count": 5,
      "outputs": [
        {
          "output_type": "execute_result",
          "data": {
            "text/plain": [
              "(250,)"
            ]
          },
          "metadata": {},
          "execution_count": 5
        }
      ]
    },
    {
      "cell_type": "code",
      "source": [
        "y"
      ],
      "metadata": {
        "colab": {
          "base_uri": "https://localhost:8080/"
        },
        "id": "U5Q_SuDibM6q",
        "outputId": "d433a2d3-122c-4551-8ba6-063879266bd6"
      },
      "execution_count": 6,
      "outputs": [
        {
          "output_type": "execute_result",
          "data": {
            "text/plain": [
              "array([1, 0, 0, 0, 0, 1, 1, 1, 0, 0, 1, 1, 1, 1, 0, 1, 1, 0, 1, 0, 1, 0,\n",
              "       0, 0, 1, 0, 0, 0, 0, 0, 1, 0, 1, 1, 0, 0, 0, 1, 1, 1, 0, 0, 0, 1,\n",
              "       1, 0, 1, 0, 1, 0, 1, 1, 1, 0, 1, 0, 1, 1, 1, 1, 1, 1, 0, 0, 1, 1,\n",
              "       1, 0, 1, 1, 0, 1, 0, 0, 1, 0, 0, 1, 0, 0, 0, 0, 1, 1, 1, 0, 1, 0,\n",
              "       1, 1, 0, 0, 0, 0, 0, 1, 0, 0, 1, 0, 0, 0, 1, 1, 0, 0, 0, 1, 0, 1,\n",
              "       0, 1, 1, 1, 1, 0, 0, 0, 0, 0, 1, 1, 1, 0, 0, 1, 1, 0, 0, 0, 1, 1,\n",
              "       0, 1, 1, 0, 1, 0, 0, 0, 1, 1, 1, 0, 1, 1, 1, 1, 0, 1, 0, 0, 1, 0,\n",
              "       0, 1, 0, 1, 1, 0, 0, 1, 0, 0, 1, 1, 0, 1, 1, 0, 0, 0, 1, 1, 1, 1,\n",
              "       0, 1, 0, 0, 1, 0, 1, 0, 0, 0, 1, 1, 0, 0, 0, 0, 1, 1, 0, 1, 0, 1,\n",
              "       1, 1, 1, 0, 0, 0, 0, 1, 1, 1, 1, 1, 1, 1, 1, 0, 0, 0, 0, 0, 1, 1,\n",
              "       1, 1, 1, 1, 0, 1, 1, 0, 0, 1, 1, 1, 0, 0, 0, 0, 1, 0, 1, 1, 0, 1,\n",
              "       0, 1, 0, 0, 0, 0, 1, 0])"
            ]
          },
          "metadata": {},
          "execution_count": 6
        }
      ]
    },
    {
      "cell_type": "code",
      "source": [
        "plt.scatter(X[:,0],X[:,1], c=y, s=100)\n",
        "plt.show()"
      ],
      "metadata": {
        "colab": {
          "base_uri": "https://localhost:8080/",
          "height": 430
        },
        "id": "qGVrLA64bQPS",
        "outputId": "9865fc54-7d83-4765-8e49-a2cc1bd42fdd"
      },
      "execution_count": 7,
      "outputs": [
        {
          "output_type": "display_data",
          "data": {
            "text/plain": [
              "<Figure size 640x480 with 1 Axes>"
            ],
            "image/png": "[encoded data removed]"
          },
          "metadata": {}
        }
      ]
    },
    {
      "cell_type": "code",
      "source": [
        "model= Sequential()\n",
        "\n",
        "model.add(Dense(10,activation='sigmoid', input_dim=2))\n",
        "model.add(Dense(10,activation='sigmoid'))\n",
        "model.add(Dense(10,activation='sigmoid'))\n",
        "model.add(Dense(10,activation='sigmoid'))\n",
        "model.add(Dense(10,activation='sigmoid'))\n",
        "model.add(Dense(10,activation='sigmoid'))\n",
        "model.add(Dense(10,activation='sigmoid'))\n",
        "model.add(Dense(10,activation='sigmoid'))\n",
        "model.add(Dense(10,activation='sigmoid'))\n",
        "model.add(Dense(10,activation='sigmoid'))\n",
        "model.add(Dense(10,activation='sigmoid'))\n",
        "model.add(Dense(1,activation='sigmoid'))"
      ],
      "metadata": {
        "id": "WjRU9QJ5b0We"
      },
      "execution_count": 8,
      "outputs": []
    },
    {
      "cell_type": "code",
      "source": [
        "model.compile(loss='binary_crossentropy', optimizer='adam', metrics=['accuracy'])"
      ],
      "metadata": {
        "id": "kmS8y2pCdoVt"
      },
      "execution_count": 9,
      "outputs": []
    },
    {
      "cell_type": "code",
      "source": [
        "model.get_weights()"
      ],
      "metadata": {
        "colab": {
          "base_uri": "https://localhost:8080/"
        },
        "id": "hDyA2476eS-B",
        "outputId": "a8616056-6db2-4c05-e387-c9f95d5e02f1"
      },
      "execution_count": 10,
      "outputs": [
        {
          "output_type": "execute_result",
          "data": {
            "text/plain": [
              "[array([[-0.70340866,  0.40777546,  0.00412297,  0.52778   , -0.5460842 ,\n",
              "          0.22235024, -0.54686075, -0.19102943,  0.5321403 , -0.6954501 ],\n",
              "        [ 0.4285764 ,  0.3811018 , -0.39922523,  0.50428075,  0.6511989 ,\n",
              "         -0.576517  , -0.27486455, -0.53034896,  0.45333654,  0.50213295]],\n",
              "       dtype=float32),\n",
              " array([0., 0., 0., 0., 0., 0., 0., 0., 0., 0.], dtype=float32),\n",
              " array([[-0.33959723, -0.41260332, -0.5172835 , -0.21516925, -0.27699184,\n",
              "          0.44620013,  0.01369166,  0.5206338 ,  0.17897385,  0.00054204],\n",
              "        [ 0.02422631, -0.31085628, -0.34330094, -0.0854269 ,  0.44900113,\n",
              "          0.04110849,  0.5411335 ,  0.43670267, -0.43000406,  0.30290675],\n",
              "        [ 0.01362705,  0.3094095 , -0.30910808,  0.34128857,  0.31283325,\n",
              "         -0.07046866,  0.37317002,  0.13474381,  0.00946325, -0.00440603],\n",
              "        [-0.13312155,  0.2658763 ,  0.44959605,  0.01617414, -0.0828644 ,\n",
              "          0.32381994, -0.23170301,  0.18959492,  0.01566839, -0.4448103 ],\n",
              "        [-0.27803576, -0.13579178,  0.41223294,  0.24398738,  0.49194086,\n",
              "          0.35894948,  0.5407767 ,  0.3460396 , -0.4372941 , -0.02188915],\n",
              "        [ 0.52909553, -0.10649756,  0.44517988, -0.5376547 , -0.14682746,\n",
              "         -0.2221097 ,  0.08163625,  0.4292161 , -0.02616119,  0.1636864 ],\n",
              "        [ 0.14779669,  0.16337782,  0.5015305 , -0.1512985 , -0.19145057,\n",
              "          0.41449368,  0.09390855,  0.29658383, -0.05531976,  0.00475335],\n",
              "        [-0.1851953 ,  0.1271745 ,  0.40710282, -0.3004043 ,  0.20678687,\n",
              "         -0.20814377,  0.17136753, -0.44946077, -0.37942606, -0.39356944],\n",
              "        [ 0.47313452, -0.32985553,  0.27051628, -0.25378573,  0.30871552,\n",
              "         -0.49350026, -0.28475448,  0.47242987,  0.23524535, -0.09615582],\n",
              "        [-0.04259819,  0.05634069,  0.2006982 , -0.3398286 , -0.21649498,\n",
              "         -0.40477538,  0.18765634,  0.43680805,  0.5411202 ,  0.16272855]],\n",
              "       dtype=float32),\n",
              " array([0., 0., 0., 0., 0., 0., 0., 0., 0., 0.], dtype=float32),\n",
              " array([[ 0.3730266 ,  0.4920814 , -0.21978238, -0.11769319, -0.52712834,\n",
              "          0.23436075,  0.51146317, -0.05796283,  0.17972124, -0.2257182 ],\n",
              "        [-0.5417102 ,  0.07398617,  0.38551337, -0.08687538, -0.22808889,\n",
              "         -0.5171526 , -0.22337848, -0.5352924 ,  0.35233587,  0.5319021 ],\n",
              "        [-0.36890215, -0.18009102,  0.007438  ,  0.0363462 ,  0.18333572,\n",
              "         -0.4228279 , -0.54767805, -0.46265113, -0.0434944 , -0.00154877],\n",
              "        [-0.1578148 ,  0.29462075, -0.19440678, -0.04418355,  0.01579881,\n",
              "         -0.31282434, -0.10796666, -0.16063431,  0.42811775,  0.42953175],\n",
              "        [ 0.17324549,  0.4452982 ,  0.37387884, -0.2774583 , -0.21779627,\n",
              "         -0.02215362,  0.06819355, -0.4487731 ,  0.3227918 ,  0.12832677],\n",
              "        [ 0.06219256, -0.5313161 ,  0.10886264, -0.47667855, -0.16899922,\n",
              "          0.09666526, -0.4382419 ,  0.11417884,  0.4136839 , -0.11075366],\n",
              "        [ 0.5027318 ,  0.13964581,  0.11538595, -0.25634432, -0.36956385,\n",
              "         -0.19295728, -0.00413424,  0.17359966, -0.16543221, -0.0869399 ],\n",
              "        [ 0.48686242, -0.33939388, -0.07412472, -0.39177373, -0.3454389 ,\n",
              "          0.3276891 , -0.29699337,  0.14916342, -0.38675135,  0.16891825],\n",
              "        [ 0.22016996,  0.34406888,  0.44029683,  0.06522638,  0.41805035,\n",
              "          0.4755013 , -0.04322749,  0.17520422, -0.3649989 , -0.27574658],\n",
              "        [-0.02397829, -0.12371886,  0.5075456 , -0.08922008,  0.42295575,\n",
              "         -0.35503888,  0.08817017, -0.10977361, -0.39953923,  0.31789505]],\n",
              "       dtype=float32),\n",
              " array([0., 0., 0., 0., 0., 0., 0., 0., 0., 0.], dtype=float32),\n",
              " array([[ 0.03190184,  0.36878556,  0.45881796, -0.1145668 , -0.1075395 ,\n",
              "         -0.25781617,  0.2995845 , -0.34326422,  0.35567093,  0.26528198],\n",
              "        [ 0.47321928,  0.05567902,  0.52784336, -0.54735875, -0.4784856 ,\n",
              "         -0.46739224, -0.32976347,  0.23567641,  0.04947793,  0.51211286],\n",
              "        [ 0.51894355,  0.26849312, -0.30696255,  0.11109197,  0.33810997,\n",
              "          0.16908252,  0.4792875 ,  0.2536615 , -0.5179978 , -0.14861506],\n",
              "        [-0.26915938,  0.25350094,  0.00436151,  0.47719157,  0.07365042,\n",
              "         -0.22229382, -0.2385053 ,  0.04216415, -0.5354845 , -0.15137085],\n",
              "        [ 0.40206546, -0.50346994,  0.24398881,  0.16293162, -0.18741202,\n",
              "          0.20716923,  0.5249783 , -0.23432797, -0.36785942, -0.46227583],\n",
              "        [-0.26685268, -0.04306191,  0.16685474,  0.32707167, -0.49171096,\n",
              "         -0.3042432 , -0.42233205, -0.2621254 , -0.32242   ,  0.457188  ],\n",
              "        [ 0.4758067 ,  0.16094995,  0.02111059,  0.1384213 ,  0.23940742,\n",
              "         -0.35960108, -0.27310023,  0.32759196, -0.20263222,  0.24419057],\n",
              "        [-0.03723162, -0.41223335,  0.13952619, -0.02239531,  0.18107015,\n",
              "         -0.28911716, -0.20109886, -0.49729592, -0.27421558,  0.0361293 ],\n",
              "        [ 0.46386755,  0.40149868,  0.24233454, -0.15576068,  0.05571884,\n",
              "         -0.24542671, -0.5042826 ,  0.24566424,  0.1277821 , -0.147185  ],\n",
              "        [-0.13188344, -0.30219573,  0.39068687, -0.32032764, -0.14715445,\n",
              "         -0.04016852, -0.06306058, -0.19714415, -0.20979846, -0.2884378 ]],\n",
              "       dtype=float32),\n",
              " array([0., 0., 0., 0., 0., 0., 0., 0., 0., 0.], dtype=float32),\n",
              " array([[-1.21855795e-01,  3.74712229e-01, -4.05611277e-01,\n",
              "          4.52152848e-01,  4.03115630e-01, -4.53934163e-01,\n",
              "          4.79835153e-01,  4.15970087e-02,  4.07014430e-01,\n",
              "          2.77487695e-01],\n",
              "        [-6.47543073e-02, -1.23337686e-01, -4.98918742e-01,\n",
              "          9.46549773e-02,  3.41669083e-01,  1.54691696e-01,\n",
              "          3.39041531e-01, -2.57748127e-01,  4.34730768e-01,\n",
              "         -3.81109715e-01],\n",
              "        [ 1.94748819e-01, -2.33152419e-01,  3.00685585e-01,\n",
              "          1.45367861e-01, -4.25387681e-01,  1.68132484e-01,\n",
              "          1.60257578e-01, -5.08606493e-01,  1.69698238e-01,\n",
              "          5.10268569e-01],\n",
              "        [-3.44854385e-01, -2.61694193e-02, -4.35832292e-01,\n",
              "         -3.00102532e-01, -3.41856897e-01,  5.36883235e-01,\n",
              "         -3.57037783e-03,  7.11658597e-02, -3.60031128e-01,\n",
              "         -4.78956103e-02],\n",
              "        [ 5.32367349e-01,  5.26649475e-01, -6.60122335e-02,\n",
              "         -2.62129456e-01,  4.22025204e-01,  1.90314829e-01,\n",
              "          9.86932516e-02, -4.14272338e-01, -3.70776892e-01,\n",
              "         -3.41398418e-01],\n",
              "        [ 1.82461202e-01,  3.64512444e-01,  7.35998750e-02,\n",
              "          3.73458624e-01,  4.85871553e-01, -2.32738197e-01,\n",
              "         -1.58956021e-01,  4.73260880e-04, -3.86284590e-02,\n",
              "          4.81866241e-01],\n",
              "        [ 1.58030391e-02, -4.95961726e-01,  2.48476326e-01,\n",
              "          4.48389828e-01,  1.31798327e-01, -5.48403859e-02,\n",
              "          5.39218187e-01,  4.32359993e-01,  2.83103347e-01,\n",
              "         -1.64328486e-01],\n",
              "        [ 3.57980609e-01, -4.33937073e-01, -1.93493992e-01,\n",
              "          4.68243957e-02, -3.84639859e-01,  2.35098302e-01,\n",
              "         -5.45409381e-01,  1.84102178e-01, -4.42429304e-01,\n",
              "         -2.33919352e-01],\n",
              "        [-4.37497020e-01,  1.94548070e-01,  3.21736395e-01,\n",
              "         -1.13013983e-02, -6.35138452e-02, -4.97456491e-02,\n",
              "          1.65903926e-01,  4.72582817e-01, -2.53974020e-01,\n",
              "         -9.91851091e-03],\n",
              "        [-5.26279092e-01,  1.83240771e-01, -2.91113704e-01,\n",
              "         -4.08865392e-01,  4.02810812e-01,  8.92972350e-02,\n",
              "          4.58972692e-01,  1.98543429e-01,  5.43516874e-01,\n",
              "         -4.09826875e-01]], dtype=float32),\n",
              " array([0., 0., 0., 0., 0., 0., 0., 0., 0., 0.], dtype=float32),\n",
              " array([[ 0.30406845,  0.30942804,  0.34861845,  0.3499024 , -0.23686174,\n",
              "         -0.48682073,  0.336075  , -0.5080849 ,  0.5385772 , -0.03576028],\n",
              "        [-0.24412161, -0.17681748,  0.08421701,  0.4269439 , -0.44987565,\n",
              "         -0.20774302, -0.38356173, -0.4012959 , -0.09521532, -0.5229414 ],\n",
              "        [ 0.28904557,  0.31377995,  0.19952685,  0.24290639, -0.41624552,\n",
              "          0.08400285, -0.46899062, -0.37111104, -0.25636455, -0.40976214],\n",
              "        [ 0.05573738,  0.19162738, -0.1703214 ,  0.05756819,  0.08779329,\n",
              "         -0.21089083, -0.1271233 , -0.41589034,  0.3169948 ,  0.4660194 ],\n",
              "        [ 0.37507606,  0.15551412,  0.52199936,  0.47938132, -0.34216052,\n",
              "          0.15420616, -0.36921751, -0.40253544,  0.5160912 , -0.3138407 ],\n",
              "        [-0.30060595, -0.36772454,  0.45478058,  0.34277922, -0.22028786,\n",
              "          0.07110214, -0.0198704 , -0.1186167 , -0.26641703,  0.27031505],\n",
              "        [ 0.00608587, -0.3072757 , -0.33465695,  0.28432196, -0.02582687,\n",
              "         -0.44426966,  0.1706484 , -0.4555916 , -0.01619148,  0.09880298],\n",
              "        [ 0.19234717,  0.00112867,  0.41542923,  0.16520709,  0.20793432,\n",
              "         -0.53748935, -0.03205919, -0.10915005, -0.24415308,  0.10313505],\n",
              "        [ 0.31887448,  0.35851032,  0.4121307 , -0.2939084 ,  0.04015779,\n",
              "         -0.25662914, -0.2779262 ,  0.4228711 , -0.14757964, -0.20180613],\n",
              "        [ 0.03566533,  0.24870157,  0.15651196,  0.12513721,  0.35905212,\n",
              "         -0.30293706, -0.49664417, -0.06114134, -0.52060103, -0.3420171 ]],\n",
              "       dtype=float32),\n",
              " array([0., 0., 0., 0., 0., 0., 0., 0., 0., 0.], dtype=float32),\n",
              " array([[-0.09955958, -0.186614  , -0.38504678,  0.4598093 ,  0.49243152,\n",
              "          0.32638437,  0.42849123,  0.08333176, -0.14491853,  0.12710458],\n",
              "        [-0.20704436,  0.07806975,  0.13359559, -0.4062894 ,  0.05916101,\n",
              "         -0.27659774, -0.01072681, -0.13627118, -0.06081501,  0.5163013 ],\n",
              "        [ 0.12958145, -0.40039197,  0.5035441 ,  0.17350262,  0.44468766,\n",
              "          0.1850915 ,  0.52406204,  0.06544977, -0.04167455,  0.5327326 ],\n",
              "        [-0.28086835,  0.49647963,  0.4220692 ,  0.44256055, -0.17130524,\n",
              "          0.3190331 ,  0.5272943 ,  0.18464994, -0.36789402, -0.42258763],\n",
              "        [ 0.34807444, -0.37158936,  0.21365076, -0.2360307 ,  0.10880113,\n",
              "         -0.2358459 , -0.3503777 ,  0.28036886, -0.2971301 ,  0.21275288],\n",
              "        [ 0.2876706 ,  0.1615116 ,  0.45761406, -0.18655106, -0.39795548,\n",
              "         -0.5242875 ,  0.3212766 , -0.47724855, -0.54446405,  0.07091773],\n",
              "        [-0.30618268, -0.44303405, -0.16153538, -0.44205007, -0.2987098 ,\n",
              "         -0.40640825,  0.03441167,  0.25201088,  0.52172565,  0.00702101],\n",
              "        [ 0.43036866,  0.33510423,  0.34775668,  0.51474   , -0.39827996,\n",
              "          0.31335336, -0.38884518, -0.21974894,  0.44310302, -0.1925258 ],\n",
              "        [-0.13711032, -0.31793657, -0.48630688, -0.31346685,  0.19494992,\n",
              "          0.10683227,  0.20233226,  0.04764217, -0.0508534 ,  0.22351754],\n",
              "        [-0.15833142, -0.13394138,  0.3428436 ,  0.13369799, -0.5291629 ,\n",
              "         -0.01591963, -0.3489905 ,  0.27390397,  0.4243304 , -0.4195913 ]],\n",
              "       dtype=float32),\n",
              " array([0., 0., 0., 0., 0., 0., 0., 0., 0., 0.], dtype=float32),\n",
              " array([[ 3.08946311e-01,  2.68129170e-01, -2.27147341e-02,\n",
              "         -4.13086355e-01, -3.72588634e-01, -4.35107350e-02,\n",
              "         -3.57776910e-01,  2.90129066e-01,  2.84063160e-01,\n",
              "         -4.23653483e-01],\n",
              "        [-1.54080272e-01, -1.25176907e-02,  2.32100129e-01,\n",
              "         -4.05164540e-01,  2.07407653e-01,  3.37733090e-01,\n",
              "         -4.86999631e-01,  1.39397025e-01,  3.34555387e-01,\n",
              "         -3.64189148e-01],\n",
              "        [-1.79914206e-01,  2.70542800e-01, -5.01598716e-02,\n",
              "          2.22126245e-02,  2.88020849e-01, -4.17274803e-01,\n",
              "          1.28115773e-01,  3.71462584e-01,  3.49201262e-01,\n",
              "         -3.26299131e-01],\n",
              "        [-5.00973761e-01, -2.62169033e-01, -1.50040418e-01,\n",
              "          9.57956910e-02,  5.41707158e-01, -3.93206775e-01,\n",
              "          3.03094268e-01,  8.33271742e-02,  1.58703446e-01,\n",
              "         -2.76876539e-01],\n",
              "        [ 2.59706914e-01,  3.92861784e-01,  3.79135609e-01,\n",
              "         -1.00147367e-01, -4.65532780e-01, -4.59154516e-01,\n",
              "          1.60295427e-01, -1.27108395e-01, -3.91597450e-01,\n",
              "          9.80802774e-02],\n",
              "        [ 2.98327208e-01,  7.85011053e-03,  3.46408486e-02,\n",
              "         -3.32545638e-01, -4.89247441e-01,  1.91302299e-02,\n",
              "         -4.14692760e-02, -2.63885587e-01,  2.65177131e-01,\n",
              "          3.73823225e-01],\n",
              "        [-5.10776043e-01,  4.94262218e-01,  1.52016759e-01,\n",
              "          3.32496107e-01, -4.08632398e-01,  3.78882706e-01,\n",
              "         -5.17577946e-01,  2.80352771e-01, -1.88509226e-02,\n",
              "          5.17463565e-01],\n",
              "        [-4.00358438e-02,  9.81525183e-02, -2.92143643e-01,\n",
              "         -2.89871931e-01, -1.88048363e-01,  1.71605468e-01,\n",
              "          3.11255872e-01, -4.03709412e-01,  4.67737317e-01,\n",
              "         -2.85136580e-01],\n",
              "        [ 5.58288097e-02, -3.78187835e-01,  2.75968313e-01,\n",
              "          4.71557140e-01,  3.83091092e-01, -1.15659565e-01,\n",
              "          7.12977648e-02, -5.83840013e-02, -4.34254944e-01,\n",
              "         -2.92122364e-04],\n",
              "        [ 5.28007746e-01,  4.53008294e-01,  7.85849094e-02,\n",
              "          5.20507693e-01, -1.29058182e-01, -1.57539010e-01,\n",
              "          3.90575051e-01,  5.40742159e-01,  2.90557742e-02,\n",
              "          4.31088746e-01]], dtype=float32),\n",
              " array([0., 0., 0., 0., 0., 0., 0., 0., 0., 0.], dtype=float32),\n",
              " array([[ 0.4026053 , -0.27331203, -0.25796986,  0.29456043, -0.3797434 ,\n",
              "          0.12654036,  0.2562986 ,  0.18956763,  0.43740886,  0.38069522],\n",
              "        [ 0.03438467, -0.04122758,  0.4105757 ,  0.53186977, -0.5377879 ,\n",
              "         -0.4325962 , -0.12736017,  0.37492615, -0.13707116,  0.09704554],\n",
              "        [ 0.2176274 , -0.19035819,  0.4385659 , -0.46946517, -0.31572062,\n",
              "         -0.49454027,  0.25770164, -0.451666  , -0.49445486,  0.01103711],\n",
              "        [ 0.15170163, -0.4072231 ,  0.54133034,  0.4620824 , -0.03538251,\n",
              "         -0.4336366 , -0.5012531 ,  0.18680662,  0.18834817, -0.3748107 ],\n",
              "        [-0.2912832 , -0.16244647, -0.33440754,  0.5193987 , -0.21133965,\n",
              "          0.5180968 , -0.37870324,  0.20202458, -0.19488761,  0.06492496],\n",
              "        [-0.5373528 , -0.02430713,  0.34787643,  0.0858739 , -0.519498  ,\n",
              "         -0.06562504,  0.07534724,  0.31664348,  0.0651173 ,  0.38362795],\n",
              "        [-0.31617182, -0.11540946, -0.3911243 , -0.34511217, -0.23475981,\n",
              "          0.07946807, -0.13769433, -0.49148363,  0.22710139, -0.503652  ],\n",
              "        [ 0.21268302, -0.12680936, -0.41267762,  0.39251822, -0.2929721 ,\n",
              "          0.32964152, -0.421618  ,  0.26444685, -0.25522283,  0.4734999 ],\n",
              "        [-0.5226668 ,  0.18764251, -0.4229129 , -0.0199793 , -0.2805015 ,\n",
              "         -0.47149006,  0.2960735 , -0.43610537,  0.3397215 ,  0.24974132],\n",
              "        [ 0.38998675,  0.4576379 , -0.38856417,  0.03354198,  0.27929974,\n",
              "          0.00552464,  0.3658557 , -0.03812468, -0.3298    ,  0.08692682]],\n",
              "       dtype=float32),\n",
              " array([0., 0., 0., 0., 0., 0., 0., 0., 0., 0.], dtype=float32),\n",
              " array([[-0.17003164, -0.07051396, -0.17545375, -0.39825752,  0.16708648,\n",
              "          0.47230184,  0.14701927,  0.41662383, -0.4090072 , -0.143644  ],\n",
              "        [ 0.5182159 ,  0.20696694,  0.13326883, -0.310277  , -0.37179977,\n",
              "          0.4882139 ,  0.00258249, -0.38451833,  0.04126728, -0.04177445],\n",
              "        [-0.21637103, -0.0368188 , -0.3325246 , -0.07956329, -0.21807078,\n",
              "         -0.44378573, -0.34769583, -0.33066308,  0.43268293, -0.3605246 ],\n",
              "        [ 0.1958136 ,  0.26966172, -0.2938512 ,  0.3565529 ,  0.18167531,\n",
              "         -0.50307333, -0.4845587 , -0.04638487, -0.47085488, -0.00480509],\n",
              "        [-0.5369618 , -0.19347963, -0.42710412,  0.06301057, -0.1859552 ,\n",
              "         -0.2688483 , -0.00332606, -0.0743894 , -0.36933482,  0.14430737],\n",
              "        [ 0.1756913 ,  0.03246099, -0.25625408,  0.1217466 ,  0.42779154,\n",
              "          0.5457717 ,  0.14187413, -0.39400586,  0.532496  ,  0.28545952],\n",
              "        [-0.23174846,  0.5215409 ,  0.02889389,  0.43635267,  0.30419487,\n",
              "          0.05991864,  0.23118317, -0.4177491 ,  0.23169953, -0.30435365],\n",
              "        [ 0.23306638,  0.18093306, -0.08407205, -0.26179007,  0.17564869,\n",
              "          0.13771248,  0.30631995, -0.11453807, -0.4698453 ,  0.3062861 ],\n",
              "        [-0.22755688, -0.49524885,  0.430762  ,  0.13196862,  0.4763019 ,\n",
              "         -0.47563046, -0.01512969,  0.14757419, -0.03269267, -0.22563046],\n",
              "        [ 0.04518956,  0.42648196, -0.01185066,  0.01675487, -0.32974595,\n",
              "         -0.2100766 , -0.20911548, -0.17986095, -0.21423137, -0.38525927]],\n",
              "       dtype=float32),\n",
              " array([0., 0., 0., 0., 0., 0., 0., 0., 0., 0.], dtype=float32),\n",
              " array([[ 0.2536536 , -0.31214228,  0.1738761 , -0.3295694 ,  0.05629396,\n",
              "         -0.39398065,  0.49837208, -0.13416976, -0.05487341, -0.2793572 ],\n",
              "        [-0.16155693,  0.40045804,  0.34214473, -0.38899314, -0.43897775,\n",
              "         -0.21668446,  0.16748899,  0.22592443, -0.37144965,  0.43177205],\n",
              "        [-0.11061808,  0.47990096,  0.09021491,  0.30792403,  0.22808236,\n",
              "         -0.10595378, -0.14513701, -0.422088  ,  0.28021187,  0.2531371 ],\n",
              "        [-0.05454993,  0.4822315 ,  0.25926661,  0.3536232 , -0.3233105 ,\n",
              "         -0.01661539,  0.21316278,  0.30433267,  0.01504159,  0.20012248],\n",
              "        [ 0.1149177 ,  0.47031093,  0.36795425,  0.09092605,  0.08350468,\n",
              "          0.11089742,  0.11258852, -0.43578136, -0.30570903,  0.09131247],\n",
              "        [-0.15635249,  0.23464555, -0.4158488 , -0.33848342,  0.43950987,\n",
              "         -0.4555959 ,  0.5342325 ,  0.18120444,  0.0363875 , -0.28693607],\n",
              "        [-0.5278088 ,  0.11001545, -0.5226938 ,  0.01670796,  0.4186107 ,\n",
              "         -0.0611839 , -0.5283919 ,  0.31514525,  0.2726851 , -0.20393208],\n",
              "        [ 0.327886  ,  0.16656   , -0.36903158, -0.12043577,  0.33531344,\n",
              "          0.00937718,  0.13072932,  0.1791358 , -0.02889061,  0.4039877 ],\n",
              "        [-0.11188388,  0.08712429, -0.08956429, -0.3568564 ,  0.3933354 ,\n",
              "          0.46381295,  0.32858098,  0.06870627,  0.42942047,  0.43377542],\n",
              "        [-0.14854312,  0.11308593, -0.34326357, -0.20532349,  0.09039521,\n",
              "         -0.08069023, -0.26145014,  0.22754294, -0.13980892, -0.13145408]],\n",
              "       dtype=float32),\n",
              " array([0., 0., 0., 0., 0., 0., 0., 0., 0., 0.], dtype=float32),\n",
              " array([[ 0.5424687 ],\n",
              "        [ 0.7176848 ],\n",
              "        [ 0.6276811 ],\n",
              "        [-0.23952556],\n",
              "        [ 0.00872862],\n",
              "        [-0.2824169 ],\n",
              "        [ 0.42091578],\n",
              "        [-0.1016565 ],\n",
              "        [ 0.45970088],\n",
              "        [ 0.33037263]], dtype=float32),\n",
              " array([0.], dtype=float32)]"
            ]
          },
          "metadata": {},
          "execution_count": 10
        }
      ]
    },
    {
      "cell_type": "code",
      "source": [
        "model.get_weights()[0]"
      ],
      "metadata": {
        "colab": {
          "base_uri": "https://localhost:8080/"
        },
        "id": "eTqU-iVpebXy",
        "outputId": "df6553b6-bce7-49ce-e68a-95dec5f38c76"
      },
      "execution_count": 11,
      "outputs": [
        {
          "output_type": "execute_result",
          "data": {
            "text/plain": [
              "array([[-0.70340866,  0.40777546,  0.00412297,  0.52778   , -0.5460842 ,\n",
              "         0.22235024, -0.54686075, -0.19102943,  0.5321403 , -0.6954501 ],\n",
              "       [ 0.4285764 ,  0.3811018 , -0.39922523,  0.50428075,  0.6511989 ,\n",
              "        -0.576517  , -0.27486455, -0.53034896,  0.45333654,  0.50213295]],\n",
              "      dtype=float32)"
            ]
          },
          "metadata": {},
          "execution_count": 11
        }
      ]
    },
    {
      "cell_type": "code",
      "source": [
        "old_weights = model.get_weights()[0]"
      ],
      "metadata": {
        "id": "jQQY2b6Ceh1Q"
      },
      "execution_count": 12,
      "outputs": []
    },
    {
      "cell_type": "code",
      "source": [
        "X_train, X_test, y_train, y_test = train_test_split(X, y, test_size=0.20, random_state=42)"
      ],
      "metadata": {
        "id": "IjuwRxHIeomr"
      },
      "execution_count": 13,
      "outputs": []
    },
    {
      "cell_type": "code",
      "source": [
        "model.fit(X_train, y_train, epochs=100)"
      ],
      "metadata": {
        "colab": {
          "base_uri": "https://localhost:8080/"
        },
        "id": "rTJ-xNL2fXLE",
        "outputId": "3b3956f0-b866-4a10-cc43-77abed2e70f3"
      },
      "execution_count": 14,
      "outputs": [
        {
          "output_type": "stream",
          "name": "stdout",
          "text": [
            "Epoch 1/100\n",
            "7/7 [==============================] - 10s 14ms/step - loss: 0.9601 - accuracy: 0.4900\n",
            "Epoch 2/100\n",
            "7/7 [==============================] - 0s 10ms/step - loss: 0.9317 - accuracy: 0.4900\n",
            "Epoch 3/100\n",
            "7/7 [==============================] - 0s 8ms/step - loss: 0.9060 - accuracy: 0.4900\n",
            "Epoch 4/100\n",
            "7/7 [==============================] - 0s 11ms/step - loss: 0.8813 - accuracy: 0.4900\n",
            "Epoch 5/100\n",
            "7/7 [==============================] - 0s 8ms/step - loss: 0.8594 - accuracy: 0.4900\n",
            "Epoch 6/100\n",
            "7/7 [==============================] - 0s 9ms/step - loss: 0.8405 - accuracy: 0.4900\n",
            "Epoch 7/100\n",
            "7/7 [==============================] - 0s 8ms/step - loss: 0.8228 - accuracy: 0.4900\n",
            "Epoch 8/100\n",
            "7/7 [==============================] - 0s 11ms/step - loss: 0.8065 - accuracy: 0.4900\n",
            "Epoch 9/100\n",
            "7/7 [==============================] - 0s 9ms/step - loss: 0.7904 - accuracy: 0.4900\n",
            "Epoch 10/100\n",
            "7/7 [==============================] - 0s 11ms/step - loss: 0.7772 - accuracy: 0.4900\n",
            "Epoch 11/100\n",
            "7/7 [==============================] - 0s 8ms/step - loss: 0.7653 - accuracy: 0.4900\n",
            "Epoch 12/100\n",
            "7/7 [==============================] - 0s 9ms/step - loss: 0.7549 - accuracy: 0.4900\n",
            "Epoch 13/100\n",
            "7/7 [==============================] - 0s 10ms/step - loss: 0.7467 - accuracy: 0.4900\n",
            "Epoch 14/100\n",
            "7/7 [==============================] - 0s 10ms/step - loss: 0.7393 - accuracy: 0.4900\n",
            "Epoch 15/100\n",
            "7/7 [==============================] - 0s 7ms/step - loss: 0.7330 - accuracy: 0.4900\n",
            "Epoch 16/100\n",
            "7/7 [==============================] - 0s 12ms/step - loss: 0.7276 - accuracy: 0.4900\n",
            "Epoch 17/100\n",
            "7/7 [==============================] - 0s 10ms/step - loss: 0.7221 - accuracy: 0.4900\n",
            "Epoch 18/100\n",
            "7/7 [==============================] - 0s 7ms/step - loss: 0.7180 - accuracy: 0.4900\n",
            "Epoch 19/100\n",
            "7/7 [==============================] - 0s 10ms/step - loss: 0.7135 - accuracy: 0.4900\n",
            "Epoch 20/100\n",
            "7/7 [==============================] - 0s 10ms/step - loss: 0.7093 - accuracy: 0.4900\n",
            "Epoch 21/100\n",
            "7/7 [==============================] - 0s 10ms/step - loss: 0.7057 - accuracy: 0.4900\n",
            "Epoch 22/100\n",
            "7/7 [==============================] - 0s 12ms/step - loss: 0.7031 - accuracy: 0.4900\n",
            "Epoch 23/100\n",
            "7/7 [==============================] - 0s 11ms/step - loss: 0.7007 - accuracy: 0.4900\n",
            "Epoch 24/100\n",
            "7/7 [==============================] - 0s 13ms/step - loss: 0.6996 - accuracy: 0.4900\n",
            "Epoch 25/100\n",
            "7/7 [==============================] - 0s 11ms/step - loss: 0.6979 - accuracy: 0.4900\n",
            "Epoch 26/100\n",
            "7/7 [==============================] - 0s 8ms/step - loss: 0.6972 - accuracy: 0.4900\n",
            "Epoch 27/100\n",
            "7/7 [==============================] - 0s 15ms/step - loss: 0.6960 - accuracy: 0.4900\n",
            "Epoch 28/100\n",
            "7/7 [==============================] - 0s 10ms/step - loss: 0.6952 - accuracy: 0.4900\n",
            "Epoch 29/100\n",
            "7/7 [==============================] - 0s 11ms/step - loss: 0.6947 - accuracy: 0.4900\n",
            "Epoch 30/100\n",
            "7/7 [==============================] - 0s 11ms/step - loss: 0.6939 - accuracy: 0.4900\n",
            "Epoch 31/100\n",
            "7/7 [==============================] - 0s 11ms/step - loss: 0.6937 - accuracy: 0.4900\n",
            "Epoch 32/100\n",
            "7/7 [==============================] - 0s 12ms/step - loss: 0.6936 - accuracy: 0.4900\n",
            "Epoch 33/100\n",
            "7/7 [==============================] - 0s 13ms/step - loss: 0.6933 - accuracy: 0.4900\n",
            "Epoch 34/100\n",
            "7/7 [==============================] - 0s 16ms/step - loss: 0.6933 - accuracy: 0.5000\n",
            "Epoch 35/100\n",
            "7/7 [==============================] - 0s 14ms/step - loss: 0.6931 - accuracy: 0.5100\n",
            "Epoch 36/100\n",
            "7/7 [==============================] - 0s 10ms/step - loss: 0.6931 - accuracy: 0.5100\n",
            "Epoch 37/100\n",
            "7/7 [==============================] - 0s 12ms/step - loss: 0.6931 - accuracy: 0.5100\n",
            "Epoch 38/100\n",
            "7/7 [==============================] - 0s 11ms/step - loss: 0.6933 - accuracy: 0.5100\n",
            "Epoch 39/100\n",
            "7/7 [==============================] - 0s 14ms/step - loss: 0.6930 - accuracy: 0.5100\n",
            "Epoch 40/100\n",
            "7/7 [==============================] - 0s 13ms/step - loss: 0.6930 - accuracy: 0.5100\n",
            "Epoch 41/100\n",
            "7/7 [==============================] - 0s 14ms/step - loss: 0.6931 - accuracy: 0.5100\n",
            "Epoch 42/100\n",
            "7/7 [==============================] - 0s 11ms/step - loss: 0.6930 - accuracy: 0.5100\n",
            "Epoch 43/100\n",
            "7/7 [==============================] - 0s 10ms/step - loss: 0.6930 - accuracy: 0.5100\n",
            "Epoch 44/100\n",
            "7/7 [==============================] - 0s 11ms/step - loss: 0.6930 - accuracy: 0.5100\n",
            "Epoch 45/100\n",
            "7/7 [==============================] - 0s 14ms/step - loss: 0.6930 - accuracy: 0.5100\n",
            "Epoch 46/100\n",
            "7/7 [==============================] - 0s 12ms/step - loss: 0.6929 - accuracy: 0.5100\n",
            "Epoch 47/100\n",
            "7/7 [==============================] - 0s 11ms/step - loss: 0.6930 - accuracy: 0.5100\n",
            "Epoch 48/100\n",
            "7/7 [==============================] - 0s 13ms/step - loss: 0.6930 - accuracy: 0.5100\n",
            "Epoch 49/100\n",
            "7/7 [==============================] - 0s 11ms/step - loss: 0.6930 - accuracy: 0.5100\n",
            "Epoch 50/100\n",
            "7/7 [==============================] - 0s 14ms/step - loss: 0.6933 - accuracy: 0.5100\n",
            "Epoch 51/100\n",
            "7/7 [==============================] - 0s 8ms/step - loss: 0.6931 - accuracy: 0.5100\n",
            "Epoch 52/100\n",
            "7/7 [==============================] - 0s 8ms/step - loss: 0.6930 - accuracy: 0.5100\n",
            "Epoch 53/100\n",
            "7/7 [==============================] - 0s 9ms/step - loss: 0.6930 - accuracy: 0.5100\n",
            "Epoch 54/100\n",
            "7/7 [==============================] - 0s 7ms/step - loss: 0.6930 - accuracy: 0.5100\n",
            "Epoch 55/100\n",
            "7/7 [==============================] - 0s 11ms/step - loss: 0.6929 - accuracy: 0.5100\n",
            "Epoch 56/100\n",
            "7/7 [==============================] - 0s 7ms/step - loss: 0.6929 - accuracy: 0.5100\n",
            "Epoch 57/100\n",
            "7/7 [==============================] - 0s 11ms/step - loss: 0.6930 - accuracy: 0.5100\n",
            "Epoch 58/100\n",
            "7/7 [==============================] - 0s 10ms/step - loss: 0.6931 - accuracy: 0.5100\n",
            "Epoch 59/100\n",
            "7/7 [==============================] - 0s 9ms/step - loss: 0.6931 - accuracy: 0.5100\n",
            "Epoch 60/100\n",
            "7/7 [==============================] - 0s 14ms/step - loss: 0.6931 - accuracy: 0.5100\n",
            "Epoch 61/100\n",
            "7/7 [==============================] - 0s 10ms/step - loss: 0.6931 - accuracy: 0.5100\n",
            "Epoch 62/100\n",
            "7/7 [==============================] - 0s 10ms/step - loss: 0.6930 - accuracy: 0.5100\n",
            "Epoch 63/100\n",
            "7/7 [==============================] - 0s 8ms/step - loss: 0.6930 - accuracy: 0.5100\n",
            "Epoch 64/100\n",
            "7/7 [==============================] - 0s 12ms/step - loss: 0.6930 - accuracy: 0.5100\n",
            "Epoch 65/100\n",
            "7/7 [==============================] - 0s 17ms/step - loss: 0.6930 - accuracy: 0.5100\n",
            "Epoch 66/100\n",
            "7/7 [==============================] - 0s 11ms/step - loss: 0.6930 - accuracy: 0.5100\n",
            "Epoch 67/100\n",
            "7/7 [==============================] - 0s 10ms/step - loss: 0.6931 - accuracy: 0.5100\n",
            "Epoch 68/100\n",
            "7/7 [==============================] - 0s 13ms/step - loss: 0.6930 - accuracy: 0.5100\n",
            "Epoch 69/100\n",
            "7/7 [==============================] - 0s 8ms/step - loss: 0.6930 - accuracy: 0.5100\n",
            "Epoch 70/100\n",
            "7/7 [==============================] - 0s 8ms/step - loss: 0.6930 - accuracy: 0.5100\n",
            "Epoch 71/100\n",
            "7/7 [==============================] - 0s 10ms/step - loss: 0.6931 - accuracy: 0.5100\n",
            "Epoch 72/100\n",
            "7/7 [==============================] - 0s 10ms/step - loss: 0.6929 - accuracy: 0.5100\n",
            "Epoch 73/100\n",
            "7/7 [==============================] - 0s 10ms/step - loss: 0.6931 - accuracy: 0.5100\n",
            "Epoch 74/100\n",
            "7/7 [==============================] - 0s 8ms/step - loss: 0.6931 - accuracy: 0.5100\n",
            "Epoch 75/100\n",
            "7/7 [==============================] - 0s 10ms/step - loss: 0.6930 - accuracy: 0.5100\n",
            "Epoch 76/100\n",
            "7/7 [==============================] - 0s 11ms/step - loss: 0.6930 - accuracy: 0.5100\n",
            "Epoch 77/100\n",
            "7/7 [==============================] - 0s 9ms/step - loss: 0.6930 - accuracy: 0.5100\n",
            "Epoch 78/100\n",
            "7/7 [==============================] - 0s 14ms/step - loss: 0.6930 - accuracy: 0.5100\n",
            "Epoch 79/100\n",
            "7/7 [==============================] - 0s 11ms/step - loss: 0.6930 - accuracy: 0.5100\n",
            "Epoch 80/100\n",
            "7/7 [==============================] - 0s 9ms/step - loss: 0.6930 - accuracy: 0.5100\n",
            "Epoch 81/100\n",
            "7/7 [==============================] - 0s 12ms/step - loss: 0.6930 - accuracy: 0.5100\n",
            "Epoch 82/100\n",
            "7/7 [==============================] - 0s 9ms/step - loss: 0.6931 - accuracy: 0.5100\n",
            "Epoch 83/100\n",
            "7/7 [==============================] - 0s 12ms/step - loss: 0.6933 - accuracy: 0.5100\n",
            "Epoch 84/100\n",
            "7/7 [==============================] - 0s 10ms/step - loss: 0.6930 - accuracy: 0.5100\n",
            "Epoch 85/100\n",
            "7/7 [==============================] - 0s 12ms/step - loss: 0.6930 - accuracy: 0.5100\n",
            "Epoch 86/100\n",
            "7/7 [==============================] - 0s 13ms/step - loss: 0.6930 - accuracy: 0.5100\n",
            "Epoch 87/100\n",
            "7/7 [==============================] - 0s 12ms/step - loss: 0.6930 - accuracy: 0.5100\n",
            "Epoch 88/100\n",
            "7/7 [==============================] - 0s 8ms/step - loss: 0.6930 - accuracy: 0.5100\n",
            "Epoch 89/100\n",
            "7/7 [==============================] - 0s 11ms/step - loss: 0.6931 - accuracy: 0.5100\n",
            "Epoch 90/100\n",
            "7/7 [==============================] - 0s 12ms/step - loss: 0.6930 - accuracy: 0.5100\n",
            "Epoch 91/100\n",
            "7/7 [==============================] - 0s 8ms/step - loss: 0.6930 - accuracy: 0.5100\n",
            "Epoch 92/100\n",
            "7/7 [==============================] - 0s 8ms/step - loss: 0.6930 - accuracy: 0.5100\n",
            "Epoch 93/100\n",
            "7/7 [==============================] - 0s 8ms/step - loss: 0.6930 - accuracy: 0.5100\n",
            "Epoch 94/100\n",
            "7/7 [==============================] - 0s 11ms/step - loss: 0.6931 - accuracy: 0.5100\n",
            "Epoch 95/100\n",
            "7/7 [==============================] - 0s 14ms/step - loss: 0.6930 - accuracy: 0.5100\n",
            "Epoch 96/100\n",
            "7/7 [==============================] - 0s 14ms/step - loss: 0.6929 - accuracy: 0.5100\n",
            "Epoch 97/100\n",
            "7/7 [==============================] - 0s 13ms/step - loss: 0.6930 - accuracy: 0.5100\n",
            "Epoch 98/100\n",
            "7/7 [==============================] - 0s 11ms/step - loss: 0.6931 - accuracy: 0.5100\n",
            "Epoch 99/100\n",
            "7/7 [==============================] - 0s 11ms/step - loss: 0.6930 - accuracy: 0.5100\n",
            "Epoch 100/100\n",
            "7/7 [==============================] - 0s 14ms/step - loss: 0.6929 - accuracy: 0.5100\n"
          ]
        },
        {
          "output_type": "execute_result",
          "data": {
            "text/plain": [
              "<keras.callbacks.History at 0x7ab097519ba0>"
            ]
          },
          "metadata": {},
          "execution_count": 14
        }
      ]
    },
    {
      "cell_type": "code",
      "source": [
        "new_weights = model.get_weights()[0]"
      ],
      "metadata": {
        "id": "XPbxkZDUfkMB"
      },
      "execution_count": 15,
      "outputs": []
    },
    {
      "cell_type": "code",
      "source": [
        "old_weights"
      ],
      "metadata": {
        "colab": {
          "base_uri": "https://localhost:8080/"
        },
        "id": "xRFL5JNLgM9S",
        "outputId": "577f9a62-8dc6-43e7-f241-80fa8d600805"
      },
      "execution_count": 16,
      "outputs": [
        {
          "output_type": "execute_result",
          "data": {
            "text/plain": [
              "array([[-0.70340866,  0.40777546,  0.00412297,  0.52778   , -0.5460842 ,\n",
              "         0.22235024, -0.54686075, -0.19102943,  0.5321403 , -0.6954501 ],\n",
              "       [ 0.4285764 ,  0.3811018 , -0.39922523,  0.50428075,  0.6511989 ,\n",
              "        -0.576517  , -0.27486455, -0.53034896,  0.45333654,  0.50213295]],\n",
              "      dtype=float32)"
            ]
          },
          "metadata": {},
          "execution_count": 16
        }
      ]
    },
    {
      "cell_type": "code",
      "source": [
        "new_weights"
      ],
      "metadata": {
        "colab": {
          "base_uri": "https://localhost:8080/"
        },
        "id": "ZksemUdngO_W",
        "outputId": "037d39ec-7f65-4707-b096-0a7dd404a726"
      },
      "execution_count": 17,
      "outputs": [
        {
          "output_type": "execute_result",
          "data": {
            "text/plain": [
              "array([[-0.6760441 ,  0.37320393, -0.04778184,  0.56376296, -0.5731188 ,\n",
              "         0.2232707 , -0.5429626 , -0.17001729,  0.5160469 , -0.7288629 ],\n",
              "       [ 0.39764914,  0.40943876, -0.35713828,  0.47339407,  0.6764667 ,\n",
              "        -0.57721204, -0.27775186, -0.5462104 ,  0.46668375,  0.53640014]],\n",
              "      dtype=float32)"
            ]
          },
          "metadata": {},
          "execution_count": 17
        }
      ]
    },
    {
      "cell_type": "code",
      "source": [
        "percent_change = abs(100*(old_weights - new_weights)/old_weights)"
      ],
      "metadata": {
        "id": "MlL_wf2ugRwX"
      },
      "execution_count": 18,
      "outputs": []
    },
    {
      "cell_type": "code",
      "source": [
        "percent_change"
      ],
      "metadata": {
        "colab": {
          "base_uri": "https://localhost:8080/"
        },
        "id": "Mil_iXN8g29J",
        "outputId": "983d6569-3f2e-499f-8016-0945661be764"
      },
      "execution_count": 19,
      "outputs": [
        {
          "output_type": "execute_result",
          "data": {
            "text/plain": [
              "array([[3.89027786e+00, 8.47807980e+00, 1.25891736e+03, 6.81779671e+00,\n",
              "        4.95062494e+00, 4.13968354e-01, 7.12822020e-01, 1.09994268e+01,\n",
              "        3.02428365e+00, 4.80447912e+00],\n",
              "       [7.21627951e+00, 7.43553925e+00, 1.05421591e+01, 6.12489748e+00,\n",
              "        3.88019371e+00, 1.20560154e-01, 1.05044782e+00, 2.99075747e+00,\n",
              "        2.94421625e+00, 6.82432556e+00]], dtype=float32)"
            ]
          },
          "metadata": {},
          "execution_count": 19
        }
      ]
    },
    {
      "cell_type": "markdown",
      "source": [
        "## Vanishing_Gredient problem Because There is no Decision Boundry Between These two Classes"
      ],
      "metadata": {
        "id": "a0fnA-Zwjb2U"
      }
    },
    {
      "cell_type": "code",
      "source": [
        "from mlxtend.plotting import plot_decision_regions\n",
        "plot_decision_regions(X_train, y_train.astype('int'), clf=model, legend=2)"
      ],
      "metadata": {
        "colab": {
          "base_uri": "https://localhost:8080/",
          "height": 465
        },
        "id": "u_suiA1Ag5Ry",
        "outputId": "ed6abd2b-152c-4156-8e99-4e473f581faa"
      },
      "execution_count": 20,
      "outputs": [
        {
          "output_type": "stream",
          "name": "stdout",
          "text": [
            "9600/9600 [==============================] - 17s 2ms/step\n"
          ]
        },
        {
          "output_type": "execute_result",
          "data": {
            "text/plain": [
              "<Axes: >"
            ]
          },
          "metadata": {},
          "execution_count": 20
        },
        {
          "output_type": "display_data",
          "data": {
            "text/plain": [
              "<Figure size 640x480 with 1 Axes>"
            ],
            "image/png": "[encoded data removed]"
          },
          "metadata": {}
        }
      ]
    },
    {
      "cell_type": "markdown",
      "source": [
        "# Solution 1: Reduce model complexity"
      ],
      "metadata": {
        "id": "Lhxvn_BPnw6h"
      }
    },
    {
      "cell_type": "code",
      "source": [
        "model1= Sequential()\n",
        "\n",
        "model1.add(Dense(10,activation='sigmoid', input_dim=2))\n",
        "model1.add(Dense(10,activation='sigmoid'))\n",
        "model1.add(Dense(10,activation='sigmoid'))\n",
        "model1.add(Dense(10,activation='sigmoid'))\n",
        "model1.add(Dense(1,activation='sigmoid'))"
      ],
      "metadata": {
        "id": "yvCF11Y_i6LM"
      },
      "execution_count": 21,
      "outputs": []
    },
    {
      "cell_type": "code",
      "source": [
        "model1.compile(loss='binary_crossentropy', optimizer='adam', metrics=['accuracy'])"
      ],
      "metadata": {
        "id": "q-BU4Oz0opIU"
      },
      "execution_count": 22,
      "outputs": []
    },
    {
      "cell_type": "code",
      "source": [
        "model1.get_weights()"
      ],
      "metadata": {
        "colab": {
          "base_uri": "https://localhost:8080/"
        },
        "id": "kYZqMus7opKz",
        "outputId": "2305880f-d755-4c60-fdea-1863574e9c52"
      },
      "execution_count": 23,
      "outputs": [
        {
          "output_type": "execute_result",
          "data": {
            "text/plain": [
              "[array([[-0.50641125, -0.5469383 , -0.3504008 , -0.19256067,  0.42039675,\n",
              "         -0.6790921 ,  0.02350616,  0.5786789 ,  0.61167413, -0.02123576],\n",
              "        [-0.02123547,  0.55518883,  0.2422198 ,  0.34348673, -0.10266232,\n",
              "          0.198717  , -0.20417804,  0.28968543, -0.2202355 ,  0.13280791]],\n",
              "       dtype=float32),\n",
              " array([0., 0., 0., 0., 0., 0., 0., 0., 0., 0.], dtype=float32),\n",
              " array([[-0.05913329, -0.03581971, -0.17884511, -0.24950689, -0.31091815,\n",
              "         -0.00533748, -0.00790572, -0.52257603, -0.060675  , -0.16934383],\n",
              "        [-0.34352463,  0.2863295 , -0.43843856, -0.09489462, -0.4864039 ,\n",
              "          0.02165031,  0.46851552, -0.23026109,  0.53068864,  0.27888304],\n",
              "        [ 0.28364068,  0.2510934 ,  0.07719219,  0.07062238,  0.50484395,\n",
              "         -0.10068381, -0.00947595, -0.24520549,  0.53356016,  0.4043331 ],\n",
              "        [ 0.3759398 , -0.24897856, -0.5241149 , -0.42435902, -0.25229585,\n",
              "          0.11646605, -0.4319203 ,  0.3651598 ,  0.36891156, -0.23247102],\n",
              "        [-0.3408348 , -0.18233517, -0.50210166,  0.4255249 ,  0.49494112,\n",
              "         -0.3919487 ,  0.4914571 , -0.41975063, -0.13764313, -0.06259975],\n",
              "        [ 0.1233288 ,  0.295973  ,  0.20654172,  0.5292467 , -0.31097287,\n",
              "         -0.11927161,  0.4304052 ,  0.0710451 , -0.49556082, -0.00908166],\n",
              "        [-0.33461922,  0.05359232, -0.35740852,  0.5442977 , -0.38668424,\n",
              "         -0.3195586 ,  0.49987948,  0.33974344,  0.21801603, -0.37044555],\n",
              "        [ 0.1314789 ,  0.11017948, -0.13429186, -0.4043152 ,  0.39179176,\n",
              "          0.2556253 ,  0.0049811 ,  0.05107421, -0.40284413,  0.13434279],\n",
              "        [-0.529608  , -0.26044372, -0.3024006 , -0.09668654, -0.33157182,\n",
              "         -0.54686946,  0.5109565 , -0.09441772,  0.06280303, -0.07550201],\n",
              "        [-0.23021173,  0.5055983 ,  0.03083426, -0.2729818 ,  0.29423666,\n",
              "         -0.52925897,  0.19825822,  0.05837196,  0.15330565, -0.4404014 ]],\n",
              "       dtype=float32),\n",
              " array([0., 0., 0., 0., 0., 0., 0., 0., 0., 0.], dtype=float32),\n",
              " array([[-0.388745  , -0.40496826, -0.46963075,  0.02772731, -0.5105671 ,\n",
              "         -0.21841916,  0.24701005,  0.08921313, -0.04177761,  0.23298973],\n",
              "        [ 0.17210233, -0.46534213, -0.29499212, -0.41258556, -0.3104884 ,\n",
              "         -0.09181353,  0.27623534,  0.24986929,  0.20755965,  0.4604261 ],\n",
              "        [-0.4742269 ,  0.20026857, -0.41072088,  0.4291324 , -0.2683624 ,\n",
              "         -0.14445782, -0.304484  ,  0.24505925, -0.41503224, -0.1013459 ],\n",
              "        [-0.06575891,  0.25726885,  0.3753832 ,  0.40484458, -0.15610126,\n",
              "          0.49834454, -0.21834055,  0.16525513,  0.01411754,  0.38756388],\n",
              "        [-0.4355126 ,  0.3278991 ,  0.27794647, -0.05328509, -0.00414145,\n",
              "         -0.38543296, -0.24984917, -0.4334867 , -0.00678921,  0.4475798 ],\n",
              "        [ 0.1809302 ,  0.53754973, -0.11468497, -0.5392947 ,  0.4959873 ,\n",
              "          0.5105517 , -0.33621228,  0.42415243, -0.24178162, -0.15447947],\n",
              "        [ 0.5156002 ,  0.5447768 , -0.48527315, -0.50471497, -0.2396332 ,\n",
              "         -0.16960305, -0.11509451,  0.23221338, -0.09628734, -0.00877941],\n",
              "        [ 0.20228171, -0.30114907,  0.46105874, -0.1254476 ,  0.38691157,\n",
              "          0.343064  , -0.01622248,  0.06306839, -0.54325074, -0.30677423],\n",
              "        [-0.41123778,  0.36427623,  0.54648817, -0.19340715, -0.43218446,\n",
              "         -0.2087633 ,  0.3455389 ,  0.2860021 , -0.21202978, -0.22034168],\n",
              "        [-0.30453074,  0.4840796 ,  0.2292993 , -0.3463363 , -0.08021137,\n",
              "          0.40995723,  0.12014681, -0.03646624, -0.37748134,  0.5233481 ]],\n",
              "       dtype=float32),\n",
              " array([0., 0., 0., 0., 0., 0., 0., 0., 0., 0.], dtype=float32),\n",
              " array([[-0.1364378 , -0.46450365,  0.12087858,  0.22087944, -0.3003368 ,\n",
              "         -0.20221147, -0.26627836, -0.27222046,  0.110654  , -0.0872196 ],\n",
              "        [-0.25887275, -0.13569164,  0.08465981,  0.17739338, -0.13515598,\n",
              "          0.46106875,  0.42227066,  0.3302645 ,  0.5197524 ,  0.4233607 ],\n",
              "        [ 0.35660815,  0.20375526,  0.49714684,  0.5156498 , -0.26715407,\n",
              "         -0.3494516 , -0.19921398, -0.30026224,  0.274754  , -0.01162606],\n",
              "        [-0.43211603, -0.07137793, -0.19465387, -0.47799903, -0.20277548,\n",
              "         -0.29763484, -0.1854305 ,  0.38321084, -0.37343055, -0.20743299],\n",
              "        [ 0.1586293 ,  0.27074665, -0.08631542, -0.36956346,  0.22946322,\n",
              "         -0.04740095,  0.00938362,  0.51365817, -0.03896517,  0.49376667],\n",
              "        [-0.21541122, -0.33030802, -0.35734951,  0.05997062,  0.4111449 ,\n",
              "         -0.03873962,  0.33173716, -0.3206632 ,  0.50024164,  0.53721714],\n",
              "        [ 0.12187719, -0.05511421, -0.10929838, -0.04438072,  0.11951125,\n",
              "         -0.31625515,  0.3263836 ,  0.2669232 ,  0.29140985, -0.3223883 ],\n",
              "        [-0.3737728 ,  0.40340722,  0.29516947,  0.18679893, -0.02647251,\n",
              "          0.46687615, -0.39165542, -0.46283734, -0.505449  , -0.42816263],\n",
              "        [-0.10429662, -0.4760311 ,  0.01660484,  0.04076636, -0.21116284,\n",
              "          0.25198895, -0.18075636,  0.3384192 ,  0.2446506 ,  0.03454149],\n",
              "        [-0.1841698 ,  0.4997065 ,  0.29780853,  0.02645737,  0.47289586,\n",
              "          0.08151245, -0.46207276,  0.09971017, -0.1579172 , -0.41134953]],\n",
              "       dtype=float32),\n",
              " array([0., 0., 0., 0., 0., 0., 0., 0., 0., 0.], dtype=float32),\n",
              " array([[ 0.39519483],\n",
              "        [ 0.43648547],\n",
              "        [ 0.06701642],\n",
              "        [-0.62052137],\n",
              "        [-0.32784355],\n",
              "        [ 0.02134067],\n",
              "        [-0.5068595 ],\n",
              "        [-0.5700174 ],\n",
              "        [ 0.44424492],\n",
              "        [-0.05498147]], dtype=float32),\n",
              " array([0.], dtype=float32)]"
            ]
          },
          "metadata": {},
          "execution_count": 23
        }
      ]
    },
    {
      "cell_type": "code",
      "source": [
        "model1.get_weights()[0]"
      ],
      "metadata": {
        "colab": {
          "base_uri": "https://localhost:8080/"
        },
        "id": "1APXDsG4opNj",
        "outputId": "fdd93034-a1e7-4086-bd36-9e1daeaf8d46"
      },
      "execution_count": 24,
      "outputs": [
        {
          "output_type": "execute_result",
          "data": {
            "text/plain": [
              "array([[-0.50641125, -0.5469383 , -0.3504008 , -0.19256067,  0.42039675,\n",
              "        -0.6790921 ,  0.02350616,  0.5786789 ,  0.61167413, -0.02123576],\n",
              "       [-0.02123547,  0.55518883,  0.2422198 ,  0.34348673, -0.10266232,\n",
              "         0.198717  , -0.20417804,  0.28968543, -0.2202355 ,  0.13280791]],\n",
              "      dtype=float32)"
            ]
          },
          "metadata": {},
          "execution_count": 24
        }
      ]
    },
    {
      "cell_type": "code",
      "source": [
        "old_weights1= model1.get_weights()[0]"
      ],
      "metadata": {
        "id": "JniHYH6VopPw"
      },
      "execution_count": 25,
      "outputs": []
    },
    {
      "cell_type": "code",
      "source": [
        "old_weights1"
      ],
      "metadata": {
        "colab": {
          "base_uri": "https://localhost:8080/"
        },
        "id": "u96WD1NzuvJU",
        "outputId": "90f93a86-c2ae-46bf-8939-8cf36a614773"
      },
      "execution_count": 26,
      "outputs": [
        {
          "output_type": "execute_result",
          "data": {
            "text/plain": [
              "array([[-0.50641125, -0.5469383 , -0.3504008 , -0.19256067,  0.42039675,\n",
              "        -0.6790921 ,  0.02350616,  0.5786789 ,  0.61167413, -0.02123576],\n",
              "       [-0.02123547,  0.55518883,  0.2422198 ,  0.34348673, -0.10266232,\n",
              "         0.198717  , -0.20417804,  0.28968543, -0.2202355 ,  0.13280791]],\n",
              "      dtype=float32)"
            ]
          },
          "metadata": {},
          "execution_count": 26
        }
      ]
    },
    {
      "cell_type": "code",
      "source": [
        "X_train, X_test, y_train, y_test = train_test_split(X, y, test_size=0.20, random_state=42)"
      ],
      "metadata": {
        "id": "_rztJSRyopSN"
      },
      "execution_count": 27,
      "outputs": []
    },
    {
      "cell_type": "code",
      "source": [
        "X_train.shape"
      ],
      "metadata": {
        "colab": {
          "base_uri": "https://localhost:8080/"
        },
        "id": "ZcILYCQBqTwS",
        "outputId": "4c12210a-c30f-414c-93c5-2193d51c70e0"
      },
      "execution_count": 28,
      "outputs": [
        {
          "output_type": "execute_result",
          "data": {
            "text/plain": [
              "(200, 2)"
            ]
          },
          "metadata": {},
          "execution_count": 28
        }
      ]
    },
    {
      "cell_type": "code",
      "source": [
        "y_train.shape"
      ],
      "metadata": {
        "colab": {
          "base_uri": "https://localhost:8080/"
        },
        "id": "0oAGlz1BqXji",
        "outputId": "c4124615-33d9-4cd6-f24c-e650edcc96c0"
      },
      "execution_count": 29,
      "outputs": [
        {
          "output_type": "execute_result",
          "data": {
            "text/plain": [
              "(200,)"
            ]
          },
          "metadata": {},
          "execution_count": 29
        }
      ]
    },
    {
      "cell_type": "code",
      "source": [
        "model1.fit(X_train, y_train, epochs=100)"
      ],
      "metadata": {
        "colab": {
          "base_uri": "https://localhost:8080/"
        },
        "id": "tCde6gdjopUY",
        "outputId": "5ca04e72-2e1d-4f02-dd32-c5598106d3c9"
      },
      "execution_count": 30,
      "outputs": [
        {
          "output_type": "stream",
          "name": "stdout",
          "text": [
            "Epoch 1/100\n",
            "7/7 [==============================] - 2s 5ms/step - loss: 0.7069 - accuracy: 0.5100\n",
            "Epoch 2/100\n",
            "7/7 [==============================] - 0s 4ms/step - loss: 0.7020 - accuracy: 0.5100\n",
            "Epoch 3/100\n",
            "7/7 [==============================] - 0s 4ms/step - loss: 0.6988 - accuracy: 0.5100\n",
            "Epoch 4/100\n",
            "7/7 [==============================] - 0s 4ms/step - loss: 0.6968 - accuracy: 0.5100\n",
            "Epoch 5/100\n",
            "7/7 [==============================] - 0s 4ms/step - loss: 0.6954 - accuracy: 0.5100\n",
            "Epoch 6/100\n",
            "7/7 [==============================] - 0s 4ms/step - loss: 0.6937 - accuracy: 0.5100\n",
            "Epoch 7/100\n",
            "7/7 [==============================] - 0s 6ms/step - loss: 0.6935 - accuracy: 0.5100\n",
            "Epoch 8/100\n",
            "7/7 [==============================] - 0s 4ms/step - loss: 0.6932 - accuracy: 0.5100\n",
            "Epoch 9/100\n",
            "7/7 [==============================] - 0s 4ms/step - loss: 0.6929 - accuracy: 0.5100\n",
            "Epoch 10/100\n",
            "7/7 [==============================] - 0s 4ms/step - loss: 0.6928 - accuracy: 0.5100\n",
            "Epoch 11/100\n",
            "7/7 [==============================] - 0s 4ms/step - loss: 0.6927 - accuracy: 0.5100\n",
            "Epoch 12/100\n",
            "7/7 [==============================] - 0s 5ms/step - loss: 0.6924 - accuracy: 0.5100\n",
            "Epoch 13/100\n",
            "7/7 [==============================] - 0s 4ms/step - loss: 0.6925 - accuracy: 0.5100\n",
            "Epoch 14/100\n",
            "7/7 [==============================] - 0s 4ms/step - loss: 0.6924 - accuracy: 0.5100\n",
            "Epoch 15/100\n",
            "7/7 [==============================] - 0s 4ms/step - loss: 0.6924 - accuracy: 0.5100\n",
            "Epoch 16/100\n",
            "7/7 [==============================] - 0s 4ms/step - loss: 0.6924 - accuracy: 0.5100\n",
            "Epoch 17/100\n",
            "7/7 [==============================] - 0s 4ms/step - loss: 0.6922 - accuracy: 0.5100\n",
            "Epoch 18/100\n",
            "7/7 [==============================] - 0s 4ms/step - loss: 0.6922 - accuracy: 0.5100\n",
            "Epoch 19/100\n",
            "7/7 [==============================] - 0s 4ms/step - loss: 0.6923 - accuracy: 0.5100\n",
            "Epoch 20/100\n",
            "7/7 [==============================] - 0s 5ms/step - loss: 0.6919 - accuracy: 0.5100\n",
            "Epoch 21/100\n",
            "7/7 [==============================] - 0s 4ms/step - loss: 0.6922 - accuracy: 0.5100\n",
            "Epoch 22/100\n",
            "7/7 [==============================] - 0s 4ms/step - loss: 0.6919 - accuracy: 0.5100\n",
            "Epoch 23/100\n",
            "7/7 [==============================] - 0s 4ms/step - loss: 0.6918 - accuracy: 0.5100\n",
            "Epoch 24/100\n",
            "7/7 [==============================] - 0s 4ms/step - loss: 0.6917 - accuracy: 0.5100\n",
            "Epoch 25/100\n",
            "7/7 [==============================] - 0s 4ms/step - loss: 0.6914 - accuracy: 0.5100\n",
            "Epoch 26/100\n",
            "7/7 [==============================] - 0s 4ms/step - loss: 0.6913 - accuracy: 0.5100\n",
            "Epoch 27/100\n",
            "7/7 [==============================] - 0s 4ms/step - loss: 0.6910 - accuracy: 0.5100\n",
            "Epoch 28/100\n",
            "7/7 [==============================] - 0s 4ms/step - loss: 0.6909 - accuracy: 0.5100\n",
            "Epoch 29/100\n",
            "7/7 [==============================] - 0s 5ms/step - loss: 0.6909 - accuracy: 0.5100\n",
            "Epoch 30/100\n",
            "7/7 [==============================] - 0s 4ms/step - loss: 0.6906 - accuracy: 0.6750\n",
            "Epoch 31/100\n",
            "7/7 [==============================] - 0s 4ms/step - loss: 0.6903 - accuracy: 0.7500\n",
            "Epoch 32/100\n",
            "7/7 [==============================] - 0s 4ms/step - loss: 0.6901 - accuracy: 0.7650\n",
            "Epoch 33/100\n",
            "7/7 [==============================] - 0s 6ms/step - loss: 0.6899 - accuracy: 0.7400\n",
            "Epoch 34/100\n",
            "7/7 [==============================] - 0s 4ms/step - loss: 0.6897 - accuracy: 0.7550\n",
            "Epoch 35/100\n",
            "7/7 [==============================] - 0s 4ms/step - loss: 0.6892 - accuracy: 0.7200\n",
            "Epoch 36/100\n",
            "7/7 [==============================] - 0s 4ms/step - loss: 0.6890 - accuracy: 0.4950\n",
            "Epoch 37/100\n",
            "7/7 [==============================] - 0s 4ms/step - loss: 0.6888 - accuracy: 0.5100\n",
            "Epoch 38/100\n",
            "7/7 [==============================] - 0s 4ms/step - loss: 0.6883 - accuracy: 0.7500\n",
            "Epoch 39/100\n",
            "7/7 [==============================] - 0s 4ms/step - loss: 0.6874 - accuracy: 0.7700\n",
            "Epoch 40/100\n",
            "7/7 [==============================] - 0s 4ms/step - loss: 0.6869 - accuracy: 0.7650\n",
            "Epoch 41/100\n",
            "7/7 [==============================] - 0s 4ms/step - loss: 0.6865 - accuracy: 0.7650\n",
            "Epoch 42/100\n",
            "7/7 [==============================] - 0s 4ms/step - loss: 0.6855 - accuracy: 0.7750\n",
            "Epoch 43/100\n",
            "7/7 [==============================] - 0s 4ms/step - loss: 0.6848 - accuracy: 0.7450\n",
            "Epoch 44/100\n",
            "7/7 [==============================] - 0s 5ms/step - loss: 0.6841 - accuracy: 0.7650\n",
            "Epoch 45/100\n",
            "7/7 [==============================] - 0s 5ms/step - loss: 0.6831 - accuracy: 0.7700\n",
            "Epoch 46/100\n",
            "7/7 [==============================] - 0s 6ms/step - loss: 0.6825 - accuracy: 0.7500\n",
            "Epoch 47/100\n",
            "7/7 [==============================] - 0s 4ms/step - loss: 0.6812 - accuracy: 0.7600\n",
            "Epoch 48/100\n",
            "7/7 [==============================] - 0s 5ms/step - loss: 0.6801 - accuracy: 0.7650\n",
            "Epoch 49/100\n",
            "7/7 [==============================] - 0s 4ms/step - loss: 0.6786 - accuracy: 0.7600\n",
            "Epoch 50/100\n",
            "7/7 [==============================] - 0s 4ms/step - loss: 0.6772 - accuracy: 0.7700\n",
            "Epoch 51/100\n",
            "7/7 [==============================] - 0s 4ms/step - loss: 0.6757 - accuracy: 0.7750\n",
            "Epoch 52/100\n",
            "7/7 [==============================] - 0s 4ms/step - loss: 0.6740 - accuracy: 0.7800\n",
            "Epoch 53/100\n",
            "7/7 [==============================] - 0s 5ms/step - loss: 0.6720 - accuracy: 0.7750\n",
            "Epoch 54/100\n",
            "7/7 [==============================] - 0s 4ms/step - loss: 0.6698 - accuracy: 0.7700\n",
            "Epoch 55/100\n",
            "7/7 [==============================] - 0s 4ms/step - loss: 0.6675 - accuracy: 0.7700\n",
            "Epoch 56/100\n",
            "7/7 [==============================] - 0s 4ms/step - loss: 0.6649 - accuracy: 0.7700\n",
            "Epoch 57/100\n",
            "7/7 [==============================] - 0s 4ms/step - loss: 0.6628 - accuracy: 0.7650\n",
            "Epoch 58/100\n",
            "7/7 [==============================] - 0s 4ms/step - loss: 0.6592 - accuracy: 0.7700\n",
            "Epoch 59/100\n",
            "7/7 [==============================] - 0s 4ms/step - loss: 0.6558 - accuracy: 0.7750\n",
            "Epoch 60/100\n",
            "7/7 [==============================] - 0s 6ms/step - loss: 0.6527 - accuracy: 0.7850\n",
            "Epoch 61/100\n",
            "7/7 [==============================] - 0s 4ms/step - loss: 0.6487 - accuracy: 0.7750\n",
            "Epoch 62/100\n",
            "7/7 [==============================] - 0s 4ms/step - loss: 0.6445 - accuracy: 0.7750\n",
            "Epoch 63/100\n",
            "7/7 [==============================] - 0s 5ms/step - loss: 0.6398 - accuracy: 0.7850\n",
            "Epoch 64/100\n",
            "7/7 [==============================] - 0s 4ms/step - loss: 0.6347 - accuracy: 0.7850\n",
            "Epoch 65/100\n",
            "7/7 [==============================] - 0s 4ms/step - loss: 0.6293 - accuracy: 0.7850\n",
            "Epoch 66/100\n",
            "7/7 [==============================] - 0s 4ms/step - loss: 0.6235 - accuracy: 0.7850\n",
            "Epoch 67/100\n",
            "7/7 [==============================] - 0s 5ms/step - loss: 0.6172 - accuracy: 0.7850\n",
            "Epoch 68/100\n",
            "7/7 [==============================] - 0s 4ms/step - loss: 0.6109 - accuracy: 0.7900\n",
            "Epoch 69/100\n",
            "7/7 [==============================] - 0s 4ms/step - loss: 0.6041 - accuracy: 0.7850\n",
            "Epoch 70/100\n",
            "7/7 [==============================] - 0s 4ms/step - loss: 0.5969 - accuracy: 0.7850\n",
            "Epoch 71/100\n",
            "7/7 [==============================] - 0s 4ms/step - loss: 0.5896 - accuracy: 0.7900\n",
            "Epoch 72/100\n",
            "7/7 [==============================] - 0s 4ms/step - loss: 0.5824 - accuracy: 0.7900\n",
            "Epoch 73/100\n",
            "7/7 [==============================] - 0s 4ms/step - loss: 0.5745 - accuracy: 0.7950\n",
            "Epoch 74/100\n",
            "7/7 [==============================] - 0s 4ms/step - loss: 0.5672 - accuracy: 0.8000\n",
            "Epoch 75/100\n",
            "7/7 [==============================] - 0s 7ms/step - loss: 0.5593 - accuracy: 0.8000\n",
            "Epoch 76/100\n",
            "7/7 [==============================] - 0s 4ms/step - loss: 0.5519 - accuracy: 0.8000\n",
            "Epoch 77/100\n",
            "7/7 [==============================] - 0s 4ms/step - loss: 0.5444 - accuracy: 0.8000\n",
            "Epoch 78/100\n",
            "7/7 [==============================] - 0s 4ms/step - loss: 0.5372 - accuracy: 0.8000\n",
            "Epoch 79/100\n",
            "7/7 [==============================] - 0s 4ms/step - loss: 0.5293 - accuracy: 0.8050\n",
            "Epoch 80/100\n",
            "7/7 [==============================] - 0s 4ms/step - loss: 0.5219 - accuracy: 0.8100\n",
            "Epoch 81/100\n",
            "7/7 [==============================] - 0s 5ms/step - loss: 0.5144 - accuracy: 0.8100\n",
            "Epoch 82/100\n",
            "7/7 [==============================] - 0s 4ms/step - loss: 0.5076 - accuracy: 0.8100\n",
            "Epoch 83/100\n",
            "7/7 [==============================] - 0s 4ms/step - loss: 0.5002 - accuracy: 0.8100\n",
            "Epoch 84/100\n",
            "7/7 [==============================] - 0s 4ms/step - loss: 0.4944 - accuracy: 0.8000\n",
            "Epoch 85/100\n",
            "7/7 [==============================] - 0s 4ms/step - loss: 0.4879 - accuracy: 0.8150\n",
            "Epoch 86/100\n",
            "7/7 [==============================] - 0s 4ms/step - loss: 0.4814 - accuracy: 0.8150\n",
            "Epoch 87/100\n",
            "7/7 [==============================] - 0s 4ms/step - loss: 0.4755 - accuracy: 0.8100\n",
            "Epoch 88/100\n",
            "7/7 [==============================] - 0s 5ms/step - loss: 0.4689 - accuracy: 0.8100\n",
            "Epoch 89/100\n",
            "7/7 [==============================] - 0s 4ms/step - loss: 0.4627 - accuracy: 0.8100\n",
            "Epoch 90/100\n",
            "7/7 [==============================] - 0s 4ms/step - loss: 0.4569 - accuracy: 0.8100\n",
            "Epoch 91/100\n",
            "7/7 [==============================] - 0s 4ms/step - loss: 0.4513 - accuracy: 0.8100\n",
            "Epoch 92/100\n",
            "7/7 [==============================] - 0s 4ms/step - loss: 0.4456 - accuracy: 0.8100\n",
            "Epoch 93/100\n",
            "7/7 [==============================] - 0s 4ms/step - loss: 0.4406 - accuracy: 0.8150\n",
            "Epoch 94/100\n",
            "7/7 [==============================] - 0s 5ms/step - loss: 0.4357 - accuracy: 0.8150\n",
            "Epoch 95/100\n",
            "7/7 [==============================] - 0s 4ms/step - loss: 0.4316 - accuracy: 0.8250\n",
            "Epoch 96/100\n",
            "7/7 [==============================] - 0s 4ms/step - loss: 0.4266 - accuracy: 0.8250\n",
            "Epoch 97/100\n",
            "7/7 [==============================] - 0s 4ms/step - loss: 0.4221 - accuracy: 0.8250\n",
            "Epoch 98/100\n",
            "7/7 [==============================] - 0s 4ms/step - loss: 0.4174 - accuracy: 0.8250\n",
            "Epoch 99/100\n",
            "7/7 [==============================] - 0s 4ms/step - loss: 0.4131 - accuracy: 0.8300\n",
            "Epoch 100/100\n",
            "7/7 [==============================] - 0s 4ms/step - loss: 0.4087 - accuracy: 0.8300\n"
          ]
        },
        {
          "output_type": "execute_result",
          "data": {
            "text/plain": [
              "<keras.callbacks.History at 0x7ab0a264ddb0>"
            ]
          },
          "metadata": {},
          "execution_count": 30
        }
      ]
    },
    {
      "cell_type": "code",
      "source": [
        "new_weights1= model1.get_weights()[0]"
      ],
      "metadata": {
        "id": "Y9AjnqWHopXD"
      },
      "execution_count": 31,
      "outputs": []
    },
    {
      "cell_type": "code",
      "source": [
        "old_weights1"
      ],
      "metadata": {
        "id": "64bignkiopZd",
        "colab": {
          "base_uri": "https://localhost:8080/"
        },
        "outputId": "bb8e6088-29d4-48fe-b26b-22fbd2263fcd"
      },
      "execution_count": 32,
      "outputs": [
        {
          "output_type": "execute_result",
          "data": {
            "text/plain": [
              "array([[-0.50641125, -0.5469383 , -0.3504008 , -0.19256067,  0.42039675,\n",
              "        -0.6790921 ,  0.02350616,  0.5786789 ,  0.61167413, -0.02123576],\n",
              "       [-0.02123547,  0.55518883,  0.2422198 ,  0.34348673, -0.10266232,\n",
              "         0.198717  , -0.20417804,  0.28968543, -0.2202355 ,  0.13280791]],\n",
              "      dtype=float32)"
            ]
          },
          "metadata": {},
          "execution_count": 32
        }
      ]
    },
    {
      "cell_type": "code",
      "source": [
        "new_weights1"
      ],
      "metadata": {
        "id": "cTu2QxAeopbz",
        "colab": {
          "base_uri": "https://localhost:8080/"
        },
        "outputId": "228d94ac-500f-413d-833c-ad0f0d5c6f23"
      },
      "execution_count": 33,
      "outputs": [
        {
          "output_type": "execute_result",
          "data": {
            "text/plain": [
              "array([[-0.81486726, -0.83943087, -0.5549809 , -0.24189925,  0.7132518 ,\n",
              "        -0.9410545 ,  0.44839856,  0.8555791 ,  0.81756973,  0.36540672],\n",
              "       [ 1.1746762 ,  1.8660808 ,  1.2428616 ,  1.1578373 , -1.300908  ,\n",
              "         1.4701536 , -1.4047734 , -0.90358055, -1.3843303 , -1.0860116 ]],\n",
              "      dtype=float32)"
            ]
          },
          "metadata": {},
          "execution_count": 33
        }
      ]
    },
    {
      "cell_type": "code",
      "source": [
        "percent_change1 = abs(100*(old_weights1 - new_weights1)/old_weights1)"
      ],
      "metadata": {
        "id": "SL_Y_NDoope6"
      },
      "execution_count": 34,
      "outputs": []
    },
    {
      "cell_type": "code",
      "source": [
        "percent_change1"
      ],
      "metadata": {
        "id": "Jkf3cGoqoppc",
        "colab": {
          "base_uri": "https://localhost:8080/"
        },
        "outputId": "b03c18a9-0ac4-47e8-9b9c-83101135f44b"
      },
      "execution_count": 35,
      "outputs": [
        {
          "output_type": "execute_result",
          "data": {
            "text/plain": [
              "array([[  60.91018 ,   53.478165,   58.38459 ,   25.622355,   69.6616  ,\n",
              "          38.575386, 1807.5785  ,   47.850403,   33.660995, 1820.7139  ],\n",
              "       [5631.6714  ,  236.1164  ,  413.11313 ,  237.08354 , 1167.1718  ,\n",
              "         639.82275 ,  588.014   ,  411.91782 ,  528.5682  ,  917.73114 ]],\n",
              "      dtype=float32)"
            ]
          },
          "metadata": {},
          "execution_count": 35
        }
      ]
    },
    {
      "cell_type": "code",
      "source": [
        "from mlxtend.plotting import plot_decision_regions\n",
        "plot_decision_regions(X_train, y_train.astype('int'), clf=model1, legend=2)"
      ],
      "metadata": {
        "id": "OwcbqpEdokhB",
        "colab": {
          "base_uri": "https://localhost:8080/",
          "height": 465
        },
        "outputId": "c56c1ca7-06ef-4135-968a-1019a61a8067"
      },
      "execution_count": 37,
      "outputs": [
        {
          "output_type": "stream",
          "name": "stdout",
          "text": [
            "9600/9600 [==============================] - 25s 3ms/step\n"
          ]
        },
        {
          "output_type": "execute_result",
          "data": {
            "text/plain": [
              "<Axes: >"
            ]
          },
          "metadata": {},
          "execution_count": 37
        },
        {
          "output_type": "display_data",
          "data": {
            "text/plain": [
              "<Figure size 640x480 with 1 Axes>"
            ],
            "image/png": "[encoded data removed]"
          },
          "metadata": {}
        }
      ]
    },
    {
      "cell_type": "markdown",
      "source": [
        "# Solution 2: Use ReLU Activation Function"
      ],
      "metadata": {
        "id": "6xRmt1hXwGPH"
      }
    },
    {
      "cell_type": "code",
      "source": [
        "model2= Sequential()\n",
        "\n",
        "model2.add(Dense(10,activation='relu', input_dim=2))\n",
        "model2.add(Dense(10,activation='relu'))\n",
        "model2.add(Dense(10,activation='relu'))\n",
        "model2.add(Dense(10,activation='relu'))\n",
        "model2.add(Dense(10,activation='relu'))\n",
        "model2.add(Dense(10,activation='relu'))\n",
        "model2.add(Dense(10,activation='relu'))\n",
        "model2.add(Dense(10,activation='relu'))\n",
        "model2.add(Dense(10,activation='relu'))\n",
        "model2.add(Dense(10,activation='relu'))\n",
        "model2.add(Dense(10,activation='relu'))\n",
        "model2.add(Dense(1,activation='sigmoid'))"
      ],
      "metadata": {
        "id": "6zidaEyKv19-"
      },
      "execution_count": 38,
      "outputs": []
    },
    {
      "cell_type": "code",
      "source": [
        "model2.compile(loss='binary_crossentropy', optimizer='adam', metrics=['accuracy'])"
      ],
      "metadata": {
        "id": "TZ1X_68hwzaO"
      },
      "execution_count": 39,
      "outputs": []
    },
    {
      "cell_type": "code",
      "source": [
        "old_weights2 = model2.get_weights()[0]"
      ],
      "metadata": {
        "id": "2WRBLYj5wzk1"
      },
      "execution_count": 40,
      "outputs": []
    },
    {
      "cell_type": "code",
      "source": [
        "X_train, X_test, y_train, y_test = train_test_split(X, y, test_size=0.20, random_state=42)"
      ],
      "metadata": {
        "id": "PyMhn8IDwztb"
      },
      "execution_count": 41,
      "outputs": []
    },
    {
      "cell_type": "code",
      "source": [
        "model2.fit(X_train, y_train, epochs=100)"
      ],
      "metadata": {
        "colab": {
          "base_uri": "https://localhost:8080/"
        },
        "id": "xkGaasuVxPbO",
        "outputId": "b9ee314d-e5f2-41ab-e16a-3caa5155bdc9"
      },
      "execution_count": 43,
      "outputs": [
        {
          "output_type": "stream",
          "name": "stdout",
          "text": [
            "Epoch 1/100\n",
            "7/7 [==============================] - 5s 6ms/step - loss: 0.6941 - accuracy: 0.5100\n",
            "Epoch 2/100\n",
            "7/7 [==============================] - 0s 6ms/step - loss: 0.6917 - accuracy: 0.5100\n",
            "Epoch 3/100\n",
            "7/7 [==============================] - 0s 5ms/step - loss: 0.6887 - accuracy: 0.5100\n",
            "Epoch 4/100\n",
            "7/7 [==============================] - 0s 5ms/step - loss: 0.6844 - accuracy: 0.5100\n",
            "Epoch 5/100\n",
            "7/7 [==============================] - 0s 5ms/step - loss: 0.6773 - accuracy: 0.5100\n",
            "Epoch 6/100\n",
            "7/7 [==============================] - 0s 5ms/step - loss: 0.6673 - accuracy: 0.5100\n",
            "Epoch 7/100\n",
            "7/7 [==============================] - 0s 8ms/step - loss: 0.6494 - accuracy: 0.5100\n",
            "Epoch 8/100\n",
            "7/7 [==============================] - 0s 6ms/step - loss: 0.6253 - accuracy: 0.5150\n",
            "Epoch 9/100\n",
            "7/7 [==============================] - 0s 5ms/step - loss: 0.5934 - accuracy: 0.7050\n",
            "Epoch 10/100\n",
            "7/7 [==============================] - 0s 5ms/step - loss: 0.5589 - accuracy: 0.8000\n",
            "Epoch 11/100\n",
            "7/7 [==============================] - 0s 5ms/step - loss: 0.5214 - accuracy: 0.8450\n",
            "Epoch 12/100\n",
            "7/7 [==============================] - 0s 5ms/step - loss: 0.4913 - accuracy: 0.8700\n",
            "Epoch 13/100\n",
            "7/7 [==============================] - 0s 6ms/step - loss: 0.4669 - accuracy: 0.8700\n",
            "Epoch 14/100\n",
            "7/7 [==============================] - 0s 6ms/step - loss: 0.4451 - accuracy: 0.8900\n",
            "Epoch 15/100\n",
            "7/7 [==============================] - 0s 6ms/step - loss: 0.4223 - accuracy: 0.9100\n",
            "Epoch 16/100\n",
            "7/7 [==============================] - 0s 5ms/step - loss: 0.4087 - accuracy: 0.8850\n",
            "Epoch 17/100\n",
            "7/7 [==============================] - 0s 5ms/step - loss: 0.3845 - accuracy: 0.9150\n",
            "Epoch 18/100\n",
            "7/7 [==============================] - 0s 5ms/step - loss: 0.3668 - accuracy: 0.9300\n",
            "Epoch 19/100\n",
            "7/7 [==============================] - 0s 5ms/step - loss: 0.3503 - accuracy: 0.9550\n",
            "Epoch 20/100\n",
            "7/7 [==============================] - 0s 5ms/step - loss: 0.3298 - accuracy: 0.9600\n",
            "Epoch 21/100\n",
            "7/7 [==============================] - 0s 5ms/step - loss: 0.3106 - accuracy: 0.9750\n",
            "Epoch 22/100\n",
            "7/7 [==============================] - 0s 5ms/step - loss: 0.2937 - accuracy: 0.9750\n",
            "Epoch 23/100\n",
            "7/7 [==============================] - 0s 5ms/step - loss: 0.2702 - accuracy: 0.9900\n",
            "Epoch 24/100\n",
            "7/7 [==============================] - 0s 5ms/step - loss: 0.2491 - accuracy: 0.9900\n",
            "Epoch 25/100\n",
            "7/7 [==============================] - 0s 5ms/step - loss: 0.2255 - accuracy: 0.9950\n",
            "Epoch 26/100\n",
            "7/7 [==============================] - 0s 5ms/step - loss: 0.1993 - accuracy: 1.0000\n",
            "Epoch 27/100\n",
            "7/7 [==============================] - 0s 5ms/step - loss: 0.1713 - accuracy: 1.0000\n",
            "Epoch 28/100\n",
            "7/7 [==============================] - 0s 5ms/step - loss: 0.1496 - accuracy: 0.9900\n",
            "Epoch 29/100\n",
            "7/7 [==============================] - 0s 5ms/step - loss: 0.1162 - accuracy: 1.0000\n",
            "Epoch 30/100\n",
            "7/7 [==============================] - 0s 7ms/step - loss: 0.0858 - accuracy: 1.0000\n",
            "Epoch 31/100\n",
            "7/7 [==============================] - 0s 6ms/step - loss: 0.0667 - accuracy: 1.0000\n",
            "Epoch 32/100\n",
            "7/7 [==============================] - 0s 6ms/step - loss: 0.0470 - accuracy: 1.0000\n",
            "Epoch 33/100\n",
            "7/7 [==============================] - 0s 6ms/step - loss: 0.0341 - accuracy: 1.0000\n",
            "Epoch 34/100\n",
            "7/7 [==============================] - 0s 5ms/step - loss: 0.0239 - accuracy: 1.0000\n",
            "Epoch 35/100\n",
            "7/7 [==============================] - 0s 5ms/step - loss: 0.0168 - accuracy: 1.0000\n",
            "Epoch 36/100\n",
            "7/7 [==============================] - 0s 5ms/step - loss: 0.0127 - accuracy: 1.0000\n",
            "Epoch 37/100\n",
            "7/7 [==============================] - 0s 5ms/step - loss: 0.0095 - accuracy: 1.0000\n",
            "Epoch 38/100\n",
            "7/7 [==============================] - 0s 5ms/step - loss: 0.0073 - accuracy: 1.0000\n",
            "Epoch 39/100\n",
            "7/7 [==============================] - 0s 5ms/step - loss: 0.0059 - accuracy: 1.0000\n",
            "Epoch 40/100\n",
            "7/7 [==============================] - 0s 5ms/step - loss: 0.0049 - accuracy: 1.0000\n",
            "Epoch 41/100\n",
            "7/7 [==============================] - 0s 5ms/step - loss: 0.0042 - accuracy: 1.0000\n",
            "Epoch 42/100\n",
            "7/7 [==============================] - 0s 5ms/step - loss: 0.0036 - accuracy: 1.0000\n",
            "Epoch 43/100\n",
            "7/7 [==============================] - 0s 5ms/step - loss: 0.0031 - accuracy: 1.0000\n",
            "Epoch 44/100\n",
            "7/7 [==============================] - 0s 5ms/step - loss: 0.0027 - accuracy: 1.0000\n",
            "Epoch 45/100\n",
            "7/7 [==============================] - 0s 5ms/step - loss: 0.0024 - accuracy: 1.0000\n",
            "Epoch 46/100\n",
            "7/7 [==============================] - 0s 6ms/step - loss: 0.0022 - accuracy: 1.0000\n",
            "Epoch 47/100\n",
            "7/7 [==============================] - 0s 5ms/step - loss: 0.0019 - accuracy: 1.0000\n",
            "Epoch 48/100\n",
            "7/7 [==============================] - 0s 5ms/step - loss: 0.0018 - accuracy: 1.0000\n",
            "Epoch 49/100\n",
            "7/7 [==============================] - 0s 6ms/step - loss: 0.0016 - accuracy: 1.0000\n",
            "Epoch 50/100\n",
            "7/7 [==============================] - 0s 6ms/step - loss: 0.0015 - accuracy: 1.0000\n",
            "Epoch 51/100\n",
            "7/7 [==============================] - 0s 5ms/step - loss: 0.0014 - accuracy: 1.0000\n",
            "Epoch 52/100\n",
            "7/7 [==============================] - 0s 5ms/step - loss: 0.0013 - accuracy: 1.0000\n",
            "Epoch 53/100\n",
            "7/7 [==============================] - 0s 6ms/step - loss: 0.0011 - accuracy: 1.0000\n",
            "Epoch 54/100\n",
            "7/7 [==============================] - 0s 5ms/step - loss: 0.0011 - accuracy: 1.0000\n",
            "Epoch 55/100\n",
            "7/7 [==============================] - 0s 6ms/step - loss: 9.9672e-04 - accuracy: 1.0000\n",
            "Epoch 56/100\n",
            "7/7 [==============================] - 0s 5ms/step - loss: 9.3222e-04 - accuracy: 1.0000\n",
            "Epoch 57/100\n",
            "7/7 [==============================] - 0s 5ms/step - loss: 8.7350e-04 - accuracy: 1.0000\n",
            "Epoch 58/100\n",
            "7/7 [==============================] - 0s 5ms/step - loss: 8.2132e-04 - accuracy: 1.0000\n",
            "Epoch 59/100\n",
            "7/7 [==============================] - 0s 5ms/step - loss: 7.7758e-04 - accuracy: 1.0000\n",
            "Epoch 60/100\n",
            "7/7 [==============================] - 0s 5ms/step - loss: 7.2820e-04 - accuracy: 1.0000\n",
            "Epoch 61/100\n",
            "7/7 [==============================] - 0s 5ms/step - loss: 6.8699e-04 - accuracy: 1.0000\n",
            "Epoch 62/100\n",
            "7/7 [==============================] - 0s 5ms/step - loss: 6.6476e-04 - accuracy: 1.0000\n",
            "Epoch 63/100\n",
            "7/7 [==============================] - 0s 5ms/step - loss: 6.2761e-04 - accuracy: 1.0000\n",
            "Epoch 64/100\n",
            "7/7 [==============================] - 0s 5ms/step - loss: 5.9354e-04 - accuracy: 1.0000\n",
            "Epoch 65/100\n",
            "7/7 [==============================] - 0s 5ms/step - loss: 5.6638e-04 - accuracy: 1.0000\n",
            "Epoch 66/100\n",
            "7/7 [==============================] - 0s 5ms/step - loss: 5.4139e-04 - accuracy: 1.0000\n",
            "Epoch 67/100\n",
            "7/7 [==============================] - 0s 6ms/step - loss: 5.1742e-04 - accuracy: 1.0000\n",
            "Epoch 68/100\n",
            "7/7 [==============================] - 0s 6ms/step - loss: 4.9487e-04 - accuracy: 1.0000\n",
            "Epoch 69/100\n",
            "7/7 [==============================] - 0s 6ms/step - loss: 4.7492e-04 - accuracy: 1.0000\n",
            "Epoch 70/100\n",
            "7/7 [==============================] - 0s 6ms/step - loss: 4.5607e-04 - accuracy: 1.0000\n",
            "Epoch 71/100\n",
            "7/7 [==============================] - 0s 6ms/step - loss: 4.3826e-04 - accuracy: 1.0000\n",
            "Epoch 72/100\n",
            "7/7 [==============================] - 0s 6ms/step - loss: 4.2122e-04 - accuracy: 1.0000\n",
            "Epoch 73/100\n",
            "7/7 [==============================] - 0s 9ms/step - loss: 4.0703e-04 - accuracy: 1.0000\n",
            "Epoch 74/100\n",
            "7/7 [==============================] - 0s 5ms/step - loss: 3.9279e-04 - accuracy: 1.0000\n",
            "Epoch 75/100\n",
            "7/7 [==============================] - 0s 5ms/step - loss: 3.7992e-04 - accuracy: 1.0000\n",
            "Epoch 76/100\n",
            "7/7 [==============================] - 0s 5ms/step - loss: 3.6211e-04 - accuracy: 1.0000\n",
            "Epoch 77/100\n",
            "7/7 [==============================] - 0s 5ms/step - loss: 3.5037e-04 - accuracy: 1.0000\n",
            "Epoch 78/100\n",
            "7/7 [==============================] - 0s 6ms/step - loss: 3.4000e-04 - accuracy: 1.0000\n",
            "Epoch 79/100\n",
            "7/7 [==============================] - 0s 5ms/step - loss: 3.2508e-04 - accuracy: 1.0000\n",
            "Epoch 80/100\n",
            "7/7 [==============================] - 0s 6ms/step - loss: 3.1327e-04 - accuracy: 1.0000\n",
            "Epoch 81/100\n",
            "7/7 [==============================] - 0s 6ms/step - loss: 3.0239e-04 - accuracy: 1.0000\n",
            "Epoch 82/100\n",
            "7/7 [==============================] - 0s 5ms/step - loss: 2.9173e-04 - accuracy: 1.0000\n",
            "Epoch 83/100\n",
            "7/7 [==============================] - 0s 5ms/step - loss: 2.8250e-04 - accuracy: 1.0000\n",
            "Epoch 84/100\n",
            "7/7 [==============================] - 0s 5ms/step - loss: 2.7368e-04 - accuracy: 1.0000\n",
            "Epoch 85/100\n",
            "7/7 [==============================] - 0s 5ms/step - loss: 2.6655e-04 - accuracy: 1.0000\n",
            "Epoch 86/100\n",
            "7/7 [==============================] - 0s 5ms/step - loss: 2.5971e-04 - accuracy: 1.0000\n",
            "Epoch 87/100\n",
            "7/7 [==============================] - 0s 5ms/step - loss: 2.5236e-04 - accuracy: 1.0000\n",
            "Epoch 88/100\n",
            "7/7 [==============================] - 0s 5ms/step - loss: 2.4484e-04 - accuracy: 1.0000\n",
            "Epoch 89/100\n",
            "7/7 [==============================] - 0s 5ms/step - loss: 2.3632e-04 - accuracy: 1.0000\n",
            "Epoch 90/100\n",
            "7/7 [==============================] - 0s 5ms/step - loss: 2.2866e-04 - accuracy: 1.0000\n",
            "Epoch 91/100\n",
            "7/7 [==============================] - 0s 5ms/step - loss: 2.2224e-04 - accuracy: 1.0000\n",
            "Epoch 92/100\n",
            "7/7 [==============================] - 0s 5ms/step - loss: 2.1658e-04 - accuracy: 1.0000\n",
            "Epoch 93/100\n",
            "7/7 [==============================] - 0s 5ms/step - loss: 2.1068e-04 - accuracy: 1.0000\n",
            "Epoch 94/100\n",
            "7/7 [==============================] - 0s 6ms/step - loss: 2.0465e-04 - accuracy: 1.0000\n",
            "Epoch 95/100\n",
            "7/7 [==============================] - 0s 5ms/step - loss: 2.0006e-04 - accuracy: 1.0000\n",
            "Epoch 96/100\n",
            "7/7 [==============================] - 0s 7ms/step - loss: 1.9433e-04 - accuracy: 1.0000\n",
            "Epoch 97/100\n",
            "7/7 [==============================] - 0s 5ms/step - loss: 1.9001e-04 - accuracy: 1.0000\n",
            "Epoch 98/100\n",
            "7/7 [==============================] - 0s 5ms/step - loss: 1.8464e-04 - accuracy: 1.0000\n",
            "Epoch 99/100\n",
            "7/7 [==============================] - 0s 5ms/step - loss: 1.8041e-04 - accuracy: 1.0000\n",
            "Epoch 100/100\n",
            "7/7 [==============================] - 0s 5ms/step - loss: 1.7525e-04 - accuracy: 1.0000\n"
          ]
        },
        {
          "output_type": "execute_result",
          "data": {
            "text/plain": [
              "<keras.callbacks.History at 0x7ab011ac20b0>"
            ]
          },
          "metadata": {},
          "execution_count": 43
        }
      ]
    },
    {
      "cell_type": "code",
      "source": [
        "new_weights2= model2.get_weights()[0]"
      ],
      "metadata": {
        "id": "RbKMA_VFxPpE"
      },
      "execution_count": 44,
      "outputs": []
    },
    {
      "cell_type": "code",
      "source": [
        "old_weights2"
      ],
      "metadata": {
        "colab": {
          "base_uri": "https://localhost:8080/"
        },
        "id": "EdhIebW6xP1C",
        "outputId": "5106f915-f732-4d37-99d2-8f686ed8cc8c"
      },
      "execution_count": 45,
      "outputs": [
        {
          "output_type": "execute_result",
          "data": {
            "text/plain": [
              "array([[-0.50966936, -0.4578191 ,  0.42142004, -0.0222289 , -0.45812982,\n",
              "         0.4950537 , -0.42496145,  0.40257305, -0.06313175,  0.23735821],\n",
              "       [ 0.02518815,  0.5030996 , -0.29838553, -0.46050423,  0.63078636,\n",
              "         0.50862914,  0.23051918, -0.40386778,  0.1392687 , -0.44038668]],\n",
              "      dtype=float32)"
            ]
          },
          "metadata": {},
          "execution_count": 45
        }
      ]
    },
    {
      "cell_type": "code",
      "source": [
        "new_weights2"
      ],
      "metadata": {
        "colab": {
          "base_uri": "https://localhost:8080/"
        },
        "id": "VqMIC2x1wz_d",
        "outputId": "7b58a1af-82e3-4848-9f90-c37de2953ee8"
      },
      "execution_count": 46,
      "outputs": [
        {
          "output_type": "execute_result",
          "data": {
            "text/plain": [
              "array([[-0.71678823, -0.624619  ,  0.47398818, -0.06368174, -0.35691056,\n",
              "         0.46717054, -0.60159284,  0.5569542 ,  0.06706792,  0.27898383],\n",
              "       [ 0.09999692,  0.62073475, -0.34846517, -0.3798693 ,  0.54265654,\n",
              "         0.57937443,  0.2924807 , -0.1898813 ,  0.2552999 , -0.36692575]],\n",
              "      dtype=float32)"
            ]
          },
          "metadata": {},
          "execution_count": 46
        }
      ]
    },
    {
      "cell_type": "code",
      "source": [
        "percent_change2 = abs(100*(old_weights2 - new_weights2)/old_weights2)"
      ],
      "metadata": {
        "id": "3G1jBPOTxsXk"
      },
      "execution_count": 48,
      "outputs": []
    },
    {
      "cell_type": "code",
      "source": [
        "percent_change2"
      ],
      "metadata": {
        "colab": {
          "base_uri": "https://localhost:8080/"
        },
        "id": "UeynZBFNxtZL",
        "outputId": "c8d696ac-66cc-4e9b-e211-c3b2b2961b61"
      },
      "execution_count": 49,
      "outputs": [
        {
          "output_type": "execute_result",
          "data": {
            "text/plain": [
              "array([[ 40.63789 ,  36.433582,  12.474049, 186.48178 ,  22.094013,\n",
              "          5.632353,  41.5641  ,  38.34861 , 206.23485 ,  17.537046],\n",
              "       [296.99988 ,  23.382076,  16.783535,  17.510136,  13.97142 ,\n",
              "         13.909012,  26.879122,  52.984295,  83.31463 ,  16.681007]],\n",
              "      dtype=float32)"
            ]
          },
          "metadata": {},
          "execution_count": 49
        }
      ]
    },
    {
      "cell_type": "code",
      "source": [
        "from mlxtend.plotting import plot_decision_regions\n",
        "plot_decision_regions(X_train, y_train.astype('int'), clf=model2, legend=2)"
      ],
      "metadata": {
        "colab": {
          "base_uri": "https://localhost:8080/",
          "height": 465
        },
        "id": "5pXXFcnOxtk2",
        "outputId": "cf45ea2f-b92d-4f31-b3b9-8f582ed205f6"
      },
      "execution_count": 50,
      "outputs": [
        {
          "output_type": "stream",
          "name": "stdout",
          "text": [
            "9600/9600 [==============================] - 18s 2ms/step\n"
          ]
        },
        {
          "output_type": "execute_result",
          "data": {
            "text/plain": [
              "<Axes: >"
            ]
          },
          "metadata": {},
          "execution_count": 50
        },
        {
          "output_type": "display_data",
          "data": {
            "text/plain": [
              "<Figure size 640x480 with 1 Axes>"
            ],
            "image/png": "[encoded data removed]"
          },
          "metadata": {}
        }
      ]
    },
    {
      "cell_type": "markdown",
      "source": [
        "# Solution 3: Proper Weight Initialization"
      ],
      "metadata": {
        "id": "WA5BPm22zr7o"
      }
    },
    {
      "cell_type": "code",
      "source": [
        "model3= Sequential()\n",
        "\n",
        "model3.add(Dense(10,activation='relu', input_dim=2, kernel_initializer='he_normal'))\n",
        "model3.add(Dense(10,activation='relu', kernel_initializer='he_normal'))\n",
        "model3.add(Dense(10,activation='relu', kernel_initializer='he_normal'))\n",
        "model3.add(Dense(10,activation='relu', kernel_initializer='he_normal'))\n",
        "model3.add(Dense(10,activation='relu', kernel_initializer='he_normal'))\n",
        "model3.add(Dense(1,activation='sigmoid'))"
      ],
      "metadata": {
        "id": "XU1r3MxgzdMi"
      },
      "execution_count": 51,
      "outputs": []
    },
    {
      "cell_type": "code",
      "source": [
        "model3.compile(loss='binary_crossentropy', optimizer='adam', metrics=['accuracy'])"
      ],
      "metadata": {
        "id": "uS1RwLpw0NzF"
      },
      "execution_count": 53,
      "outputs": []
    },
    {
      "cell_type": "code",
      "source": [
        "old_weights3 = model3.get_weights()[0]"
      ],
      "metadata": {
        "id": "Rd_VDLZK0N2c"
      },
      "execution_count": 54,
      "outputs": []
    },
    {
      "cell_type": "code",
      "source": [
        "old_weights3"
      ],
      "metadata": {
        "colab": {
          "base_uri": "https://localhost:8080/"
        },
        "id": "y9bmZOWc0bax",
        "outputId": "cde49c76-8c31-4ea8-f460-ca23debee2bf"
      },
      "execution_count": 55,
      "outputs": [
        {
          "output_type": "execute_result",
          "data": {
            "text/plain": [
              "array([[-1.8307499 ,  1.3782135 , -1.5057653 , -0.48180518, -0.8781857 ,\n",
              "        -0.1853141 , -0.43330216, -0.7308847 ,  0.5656629 ,  0.8599546 ],\n",
              "       [-0.53431815, -0.23695713,  0.9400654 ,  1.1910914 , -0.25806838,\n",
              "         1.1453817 , -0.37207532,  1.2552277 ,  0.9481777 ,  0.6436016 ]],\n",
              "      dtype=float32)"
            ]
          },
          "metadata": {},
          "execution_count": 55
        }
      ]
    },
    {
      "cell_type": "code",
      "source": [
        "X_train, X_test, y_train, y_test = train_test_split(X, y, test_size=0.20, random_state=42)"
      ],
      "metadata": {
        "id": "GXYbB00S0N8k"
      },
      "execution_count": 56,
      "outputs": []
    },
    {
      "cell_type": "code",
      "source": [
        "model3.fit(X_train, y_train, epochs=100)"
      ],
      "metadata": {
        "colab": {
          "base_uri": "https://localhost:8080/"
        },
        "id": "zH-kuzOP0N-4",
        "outputId": "7f54839c-40f1-4be7-dfef-e8797d94cac9"
      },
      "execution_count": 57,
      "outputs": [
        {
          "output_type": "stream",
          "name": "stdout",
          "text": [
            "Epoch 1/100\n",
            "7/7 [==============================] - 2s 5ms/step - loss: 0.8762 - accuracy: 0.5100\n",
            "Epoch 2/100\n",
            "7/7 [==============================] - 0s 7ms/step - loss: 0.8051 - accuracy: 0.5100\n",
            "Epoch 3/100\n",
            "7/7 [==============================] - 0s 5ms/step - loss: 0.7523 - accuracy: 0.5400\n",
            "Epoch 4/100\n",
            "7/7 [==============================] - 0s 6ms/step - loss: 0.7137 - accuracy: 0.5650\n",
            "Epoch 5/100\n",
            "7/7 [==============================] - 0s 4ms/step - loss: 0.6843 - accuracy: 0.6300\n",
            "Epoch 6/100\n",
            "7/7 [==============================] - 0s 4ms/step - loss: 0.6595 - accuracy: 0.6600\n",
            "Epoch 7/100\n",
            "7/7 [==============================] - 0s 4ms/step - loss: 0.6391 - accuracy: 0.6800\n",
            "Epoch 8/100\n",
            "7/7 [==============================] - 0s 4ms/step - loss: 0.6190 - accuracy: 0.7200\n",
            "Epoch 9/100\n",
            "7/7 [==============================] - 0s 4ms/step - loss: 0.5989 - accuracy: 0.7550\n",
            "Epoch 10/100\n",
            "7/7 [==============================] - 0s 4ms/step - loss: 0.5771 - accuracy: 0.7700\n",
            "Epoch 11/100\n",
            "7/7 [==============================] - 0s 4ms/step - loss: 0.5541 - accuracy: 0.8050\n",
            "Epoch 12/100\n",
            "7/7 [==============================] - 0s 4ms/step - loss: 0.5295 - accuracy: 0.8050\n",
            "Epoch 13/100\n",
            "7/7 [==============================] - 0s 4ms/step - loss: 0.5013 - accuracy: 0.8150\n",
            "Epoch 14/100\n",
            "7/7 [==============================] - 0s 4ms/step - loss: 0.4735 - accuracy: 0.7950\n",
            "Epoch 15/100\n",
            "7/7 [==============================] - 0s 4ms/step - loss: 0.4422 - accuracy: 0.8000\n",
            "Epoch 16/100\n",
            "7/7 [==============================] - 0s 4ms/step - loss: 0.4078 - accuracy: 0.8250\n",
            "Epoch 17/100\n",
            "7/7 [==============================] - 0s 4ms/step - loss: 0.3741 - accuracy: 0.8400\n",
            "Epoch 18/100\n",
            "7/7 [==============================] - 0s 4ms/step - loss: 0.3450 - accuracy: 0.8400\n",
            "Epoch 19/100\n",
            "7/7 [==============================] - 0s 4ms/step - loss: 0.3172 - accuracy: 0.8500\n",
            "Epoch 20/100\n",
            "7/7 [==============================] - 0s 4ms/step - loss: 0.2937 - accuracy: 0.8850\n",
            "Epoch 21/100\n",
            "7/7 [==============================] - 0s 4ms/step - loss: 0.2726 - accuracy: 0.8800\n",
            "Epoch 22/100\n",
            "7/7 [==============================] - 0s 5ms/step - loss: 0.2573 - accuracy: 0.8950\n",
            "Epoch 23/100\n",
            "7/7 [==============================] - 0s 5ms/step - loss: 0.2419 - accuracy: 0.9000\n",
            "Epoch 24/100\n",
            "7/7 [==============================] - 0s 4ms/step - loss: 0.2285 - accuracy: 0.9100\n",
            "Epoch 25/100\n",
            "7/7 [==============================] - 0s 5ms/step - loss: 0.2174 - accuracy: 0.9150\n",
            "Epoch 26/100\n",
            "7/7 [==============================] - 0s 6ms/step - loss: 0.2071 - accuracy: 0.9200\n",
            "Epoch 27/100\n",
            "7/7 [==============================] - 0s 4ms/step - loss: 0.1978 - accuracy: 0.9300\n",
            "Epoch 28/100\n",
            "7/7 [==============================] - 0s 4ms/step - loss: 0.1893 - accuracy: 0.9400\n",
            "Epoch 29/100\n",
            "7/7 [==============================] - 0s 4ms/step - loss: 0.1822 - accuracy: 0.9400\n",
            "Epoch 30/100\n",
            "7/7 [==============================] - 0s 4ms/step - loss: 0.1745 - accuracy: 0.9400\n",
            "Epoch 31/100\n",
            "7/7 [==============================] - 0s 4ms/step - loss: 0.1695 - accuracy: 0.9400\n",
            "Epoch 32/100\n",
            "7/7 [==============================] - 0s 4ms/step - loss: 0.1644 - accuracy: 0.9400\n",
            "Epoch 33/100\n",
            "7/7 [==============================] - 0s 5ms/step - loss: 0.1559 - accuracy: 0.9500\n",
            "Epoch 34/100\n",
            "7/7 [==============================] - 0s 4ms/step - loss: 0.1508 - accuracy: 0.9450\n",
            "Epoch 35/100\n",
            "7/7 [==============================] - 0s 4ms/step - loss: 0.1451 - accuracy: 0.9500\n",
            "Epoch 36/100\n",
            "7/7 [==============================] - 0s 4ms/step - loss: 0.1380 - accuracy: 0.9550\n",
            "Epoch 37/100\n",
            "7/7 [==============================] - 0s 4ms/step - loss: 0.1319 - accuracy: 0.9550\n",
            "Epoch 38/100\n",
            "7/7 [==============================] - 0s 4ms/step - loss: 0.1265 - accuracy: 0.9550\n",
            "Epoch 39/100\n",
            "7/7 [==============================] - 0s 4ms/step - loss: 0.1200 - accuracy: 0.9550\n",
            "Epoch 40/100\n",
            "7/7 [==============================] - 0s 4ms/step - loss: 0.1154 - accuracy: 0.9550\n",
            "Epoch 41/100\n",
            "7/7 [==============================] - 0s 4ms/step - loss: 0.1091 - accuracy: 0.9600\n",
            "Epoch 42/100\n",
            "7/7 [==============================] - 0s 5ms/step - loss: 0.1038 - accuracy: 0.9600\n",
            "Epoch 43/100\n",
            "7/7 [==============================] - 0s 5ms/step - loss: 0.0994 - accuracy: 0.9600\n",
            "Epoch 44/100\n",
            "7/7 [==============================] - 0s 4ms/step - loss: 0.0943 - accuracy: 0.9600\n",
            "Epoch 45/100\n",
            "7/7 [==============================] - 0s 4ms/step - loss: 0.0888 - accuracy: 0.9600\n",
            "Epoch 46/100\n",
            "7/7 [==============================] - 0s 5ms/step - loss: 0.0828 - accuracy: 0.9650\n",
            "Epoch 47/100\n",
            "7/7 [==============================] - 0s 4ms/step - loss: 0.0788 - accuracy: 0.9650\n",
            "Epoch 48/100\n",
            "7/7 [==============================] - 0s 4ms/step - loss: 0.0734 - accuracy: 0.9700\n",
            "Epoch 49/100\n",
            "7/7 [==============================] - 0s 4ms/step - loss: 0.0719 - accuracy: 0.9650\n",
            "Epoch 50/100\n",
            "7/7 [==============================] - 0s 4ms/step - loss: 0.0655 - accuracy: 0.9700\n",
            "Epoch 51/100\n",
            "7/7 [==============================] - 0s 4ms/step - loss: 0.0605 - accuracy: 0.9750\n",
            "Epoch 52/100\n",
            "7/7 [==============================] - 0s 4ms/step - loss: 0.0562 - accuracy: 0.9800\n",
            "Epoch 53/100\n",
            "7/7 [==============================] - 0s 6ms/step - loss: 0.0539 - accuracy: 0.9750\n",
            "Epoch 54/100\n",
            "7/7 [==============================] - 0s 4ms/step - loss: 0.0498 - accuracy: 0.9800\n",
            "Epoch 55/100\n",
            "7/7 [==============================] - 0s 4ms/step - loss: 0.0451 - accuracy: 0.9800\n",
            "Epoch 56/100\n",
            "7/7 [==============================] - 0s 4ms/step - loss: 0.0465 - accuracy: 0.9900\n",
            "Epoch 57/100\n",
            "7/7 [==============================] - 0s 4ms/step - loss: 0.0411 - accuracy: 0.9950\n",
            "Epoch 58/100\n",
            "7/7 [==============================] - 0s 4ms/step - loss: 0.0373 - accuracy: 0.9900\n",
            "Epoch 59/100\n",
            "7/7 [==============================] - 0s 4ms/step - loss: 0.0353 - accuracy: 0.9900\n",
            "Epoch 60/100\n",
            "7/7 [==============================] - 0s 4ms/step - loss: 0.0323 - accuracy: 1.0000\n",
            "Epoch 61/100\n",
            "7/7 [==============================] - 0s 4ms/step - loss: 0.0305 - accuracy: 1.0000\n",
            "Epoch 62/100\n",
            "7/7 [==============================] - 0s 6ms/step - loss: 0.0291 - accuracy: 1.0000\n",
            "Epoch 63/100\n",
            "7/7 [==============================] - 0s 4ms/step - loss: 0.0261 - accuracy: 1.0000\n",
            "Epoch 64/100\n",
            "7/7 [==============================] - 0s 4ms/step - loss: 0.0248 - accuracy: 1.0000\n",
            "Epoch 65/100\n",
            "7/7 [==============================] - 0s 4ms/step - loss: 0.0229 - accuracy: 1.0000\n",
            "Epoch 66/100\n",
            "7/7 [==============================] - 0s 4ms/step - loss: 0.0212 - accuracy: 1.0000\n",
            "Epoch 67/100\n",
            "7/7 [==============================] - 0s 4ms/step - loss: 0.0199 - accuracy: 1.0000\n",
            "Epoch 68/100\n",
            "7/7 [==============================] - 0s 5ms/step - loss: 0.0188 - accuracy: 1.0000\n",
            "Epoch 69/100\n",
            "7/7 [==============================] - 0s 4ms/step - loss: 0.0176 - accuracy: 1.0000\n",
            "Epoch 70/100\n",
            "7/7 [==============================] - 0s 4ms/step - loss: 0.0165 - accuracy: 1.0000\n",
            "Epoch 71/100\n",
            "7/7 [==============================] - 0s 4ms/step - loss: 0.0156 - accuracy: 1.0000\n",
            "Epoch 72/100\n",
            "7/7 [==============================] - 0s 5ms/step - loss: 0.0148 - accuracy: 1.0000\n",
            "Epoch 73/100\n",
            "7/7 [==============================] - 0s 4ms/step - loss: 0.0138 - accuracy: 1.0000\n",
            "Epoch 74/100\n",
            "7/7 [==============================] - 0s 4ms/step - loss: 0.0129 - accuracy: 1.0000\n",
            "Epoch 75/100\n",
            "7/7 [==============================] - 0s 4ms/step - loss: 0.0122 - accuracy: 1.0000\n",
            "Epoch 76/100\n",
            "7/7 [==============================] - 0s 4ms/step - loss: 0.0116 - accuracy: 1.0000\n",
            "Epoch 77/100\n",
            "7/7 [==============================] - 0s 4ms/step - loss: 0.0107 - accuracy: 1.0000\n",
            "Epoch 78/100\n",
            "7/7 [==============================] - 0s 4ms/step - loss: 0.0102 - accuracy: 1.0000\n",
            "Epoch 79/100\n",
            "7/7 [==============================] - 0s 4ms/step - loss: 0.0095 - accuracy: 1.0000\n",
            "Epoch 80/100\n",
            "7/7 [==============================] - 0s 6ms/step - loss: 0.0090 - accuracy: 1.0000\n",
            "Epoch 81/100\n",
            "7/7 [==============================] - 0s 5ms/step - loss: 0.0085 - accuracy: 1.0000\n",
            "Epoch 82/100\n",
            "7/7 [==============================] - 0s 4ms/step - loss: 0.0080 - accuracy: 1.0000\n",
            "Epoch 83/100\n",
            "7/7 [==============================] - 0s 4ms/step - loss: 0.0077 - accuracy: 1.0000\n",
            "Epoch 84/100\n",
            "7/7 [==============================] - 0s 4ms/step - loss: 0.0074 - accuracy: 1.0000\n",
            "Epoch 85/100\n",
            "7/7 [==============================] - 0s 4ms/step - loss: 0.0070 - accuracy: 1.0000\n",
            "Epoch 86/100\n",
            "7/7 [==============================] - 0s 4ms/step - loss: 0.0067 - accuracy: 1.0000\n",
            "Epoch 87/100\n",
            "7/7 [==============================] - 0s 4ms/step - loss: 0.0064 - accuracy: 1.0000\n",
            "Epoch 88/100\n",
            "7/7 [==============================] - 0s 4ms/step - loss: 0.0061 - accuracy: 1.0000\n",
            "Epoch 89/100\n",
            "7/7 [==============================] - 0s 4ms/step - loss: 0.0058 - accuracy: 1.0000\n",
            "Epoch 90/100\n",
            "7/7 [==============================] - 0s 4ms/step - loss: 0.0055 - accuracy: 1.0000\n",
            "Epoch 91/100\n",
            "7/7 [==============================] - 0s 4ms/step - loss: 0.0052 - accuracy: 1.0000\n",
            "Epoch 92/100\n",
            "7/7 [==============================] - 0s 4ms/step - loss: 0.0050 - accuracy: 1.0000\n",
            "Epoch 93/100\n",
            "7/7 [==============================] - 0s 6ms/step - loss: 0.0048 - accuracy: 1.0000\n",
            "Epoch 94/100\n",
            "7/7 [==============================] - 0s 5ms/step - loss: 0.0046 - accuracy: 1.0000\n",
            "Epoch 95/100\n",
            "7/7 [==============================] - 0s 4ms/step - loss: 0.0044 - accuracy: 1.0000\n",
            "Epoch 96/100\n",
            "7/7 [==============================] - 0s 4ms/step - loss: 0.0043 - accuracy: 1.0000\n",
            "Epoch 97/100\n",
            "7/7 [==============================] - 0s 4ms/step - loss: 0.0041 - accuracy: 1.0000\n",
            "Epoch 98/100\n",
            "7/7 [==============================] - 0s 4ms/step - loss: 0.0040 - accuracy: 1.0000\n",
            "Epoch 99/100\n",
            "7/7 [==============================] - 0s 4ms/step - loss: 0.0039 - accuracy: 1.0000\n",
            "Epoch 100/100\n",
            "7/7 [==============================] - 0s 4ms/step - loss: 0.0038 - accuracy: 1.0000\n"
          ]
        },
        {
          "output_type": "execute_result",
          "data": {
            "text/plain": [
              "<keras.callbacks.History at 0x7ab01123f430>"
            ]
          },
          "metadata": {},
          "execution_count": 57
        }
      ]
    },
    {
      "cell_type": "code",
      "source": [
        "new_weights3= model3.get_weights()[0]"
      ],
      "metadata": {
        "id": "zZ62viL50OA7"
      },
      "execution_count": 58,
      "outputs": []
    },
    {
      "cell_type": "code",
      "source": [
        "old_weights3"
      ],
      "metadata": {
        "colab": {
          "base_uri": "https://localhost:8080/"
        },
        "id": "0kjR1eQq0OC9",
        "outputId": "1dabbce1-c152-4216-a7df-fcf124cddf8b"
      },
      "execution_count": 59,
      "outputs": [
        {
          "output_type": "execute_result",
          "data": {
            "text/plain": [
              "array([[-1.8307499 ,  1.3782135 , -1.5057653 , -0.48180518, -0.8781857 ,\n",
              "        -0.1853141 , -0.43330216, -0.7308847 ,  0.5656629 ,  0.8599546 ],\n",
              "       [-0.53431815, -0.23695713,  0.9400654 ,  1.1910914 , -0.25806838,\n",
              "         1.1453817 , -0.37207532,  1.2552277 ,  0.9481777 ,  0.6436016 ]],\n",
              "      dtype=float32)"
            ]
          },
          "metadata": {},
          "execution_count": 59
        }
      ]
    },
    {
      "cell_type": "code",
      "source": [
        "new_weights3"
      ],
      "metadata": {
        "colab": {
          "base_uri": "https://localhost:8080/"
        },
        "id": "TVibvJt_0OF-",
        "outputId": "67b78926-eb1d-47aa-bf41-e590547eabca"
      },
      "execution_count": 60,
      "outputs": [
        {
          "output_type": "execute_result",
          "data": {
            "text/plain": [
              "array([[-1.956792  ,  1.3680403 , -1.588936  , -0.40587026, -1.1394684 ,\n",
              "        -0.22630866, -0.30519915, -0.93372375,  0.49458802,  0.9265603 ],\n",
              "       [-0.39398223, -0.15669675,  1.1082376 ,  1.3375847 , -0.14016765,\n",
              "         1.0267017 , -0.46694326,  1.0998865 ,  1.097342  ,  0.70320356]],\n",
              "      dtype=float32)"
            ]
          },
          "metadata": {},
          "execution_count": 60
        }
      ]
    },
    {
      "cell_type": "code",
      "source": [
        "percent_change3 = abs(100*(old_weights3 - new_weights3)/old_weights3)"
      ],
      "metadata": {
        "id": "kxDOflEf0OJl"
      },
      "execution_count": 62,
      "outputs": []
    },
    {
      "cell_type": "code",
      "source": [
        "percent_change3"
      ],
      "metadata": {
        "colab": {
          "base_uri": "https://localhost:8080/"
        },
        "id": "2FwxVooI01yi",
        "outputId": "5d5a1371-8c93-4bc7-f299-ae96799edcf1"
      },
      "execution_count": 63,
      "outputs": [
        {
          "output_type": "execute_result",
          "data": {
            "text/plain": [
              "array([[ 6.884727 ,  0.7381441,  5.5234804, 15.760502 , 29.752563 ,\n",
              "        22.121658 , 29.564362 , 27.75254  , 12.564887 ,  7.7452564],\n",
              "       [26.264488 , 33.871265 , 17.88942  , 12.299083 , 45.68585  ,\n",
              "        10.361611 , 25.496973 , 12.375536 , 15.731684 ,  9.260693 ]],\n",
              "      dtype=float32)"
            ]
          },
          "metadata": {},
          "execution_count": 63
        }
      ]
    },
    {
      "cell_type": "code",
      "source": [
        "from mlxtend.plotting import plot_decision_regions\n",
        "plot_decision_regions(X_train, y_train.astype('int'), clf=model3, legend=2)"
      ],
      "metadata": {
        "colab": {
          "base_uri": "https://localhost:8080/",
          "height": 465
        },
        "id": "-9lkdFMI019H",
        "outputId": "7051c605-0454-40cc-9861-67b361b24423"
      },
      "execution_count": 64,
      "outputs": [
        {
          "output_type": "stream",
          "name": "stdout",
          "text": [
            "9600/9600 [==============================] - 15s 2ms/step\n"
          ]
        },
        {
          "output_type": "execute_result",
          "data": {
            "text/plain": [
              "<Axes: >"
            ]
          },
          "metadata": {},
          "execution_count": 64
        },
        {
          "output_type": "display_data",
          "data": {
            "text/plain": [
              "<Figure size 640x480 with 1 Axes>"
            ],
            "image/png": "[encoded data removed]"
          },
          "metadata": {}
        }
      ]
    },
    {
      "cell_type": "code",
      "source": [],
      "metadata": {
        "id": "xgYLkqDY20Gc"
      },
      "execution_count": null,
      "outputs": []
    }
  ]
}